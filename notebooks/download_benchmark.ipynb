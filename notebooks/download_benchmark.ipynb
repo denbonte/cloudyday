{
  "nbformat": 4,
  "nbformat_minor": 0,
  "metadata": {
    "colab": {
      "provenance": [],
      "authorship_tag": "ABX9TyODzrDQkGi9z2ajr0670r7i",
      "include_colab_link": true
    },
    "kernelspec": {
      "name": "python3",
      "display_name": "Python 3"
    },
    "language_info": {
      "name": "python"
    },
    "widgets": {
      "application/vnd.jupyter.widget-state+json": {
        "252ede2f40f54bf78016cf8cd958c0f8": {
          "model_module": "@jupyter-widgets/controls",
          "model_name": "HBoxModel",
          "model_module_version": "1.5.0",
          "state": {
            "_dom_classes": [],
            "_model_module": "@jupyter-widgets/controls",
            "_model_module_version": "1.5.0",
            "_model_name": "HBoxModel",
            "_view_count": null,
            "_view_module": "@jupyter-widgets/controls",
            "_view_module_version": "1.5.0",
            "_view_name": "HBoxView",
            "box_style": "",
            "children": [
              "IPY_MODEL_5ddf9dc94af94567b5f42485320f0908",
              "IPY_MODEL_ba51f83f251846998fe5a8a99f7c7bfe",
              "IPY_MODEL_3753c954886241278fdf1696f0b9dd0a"
            ],
            "layout": "IPY_MODEL_864b2c331ac64d6baf0e83dff479601e"
          }
        },
        "5ddf9dc94af94567b5f42485320f0908": {
          "model_module": "@jupyter-widgets/controls",
          "model_name": "HTMLModel",
          "model_module_version": "1.5.0",
          "state": {
            "_dom_classes": [],
            "_model_module": "@jupyter-widgets/controls",
            "_model_module_version": "1.5.0",
            "_model_name": "HTMLModel",
            "_view_count": null,
            "_view_module": "@jupyter-widgets/controls",
            "_view_module_version": "1.5.0",
            "_view_name": "HTMLView",
            "description": "",
            "description_tooltip": null,
            "layout": "IPY_MODEL_aa0c82b2df2444bc8fe0cb1968e04fe7",
            "placeholder": "​",
            "style": "IPY_MODEL_67948468454a4ce09fc4aa39718fb2f0",
            "value": "Job ID 5c755113-6bb1-43b6-96b2-ed57c40112df successfully executed: 100%"
          }
        },
        "ba51f83f251846998fe5a8a99f7c7bfe": {
          "model_module": "@jupyter-widgets/controls",
          "model_name": "FloatProgressModel",
          "model_module_version": "1.5.0",
          "state": {
            "_dom_classes": [],
            "_model_module": "@jupyter-widgets/controls",
            "_model_module_version": "1.5.0",
            "_model_name": "FloatProgressModel",
            "_view_count": null,
            "_view_module": "@jupyter-widgets/controls",
            "_view_module_version": "1.5.0",
            "_view_name": "ProgressView",
            "bar_style": "success",
            "description": "",
            "description_tooltip": null,
            "layout": "IPY_MODEL_df2942f2d786406c9376567be8477120",
            "max": 1,
            "min": 0,
            "orientation": "horizontal",
            "style": "IPY_MODEL_4a59479ee2b04f528ff044e072340c82",
            "value": 1
          }
        },
        "3753c954886241278fdf1696f0b9dd0a": {
          "model_module": "@jupyter-widgets/controls",
          "model_name": "HTMLModel",
          "model_module_version": "1.5.0",
          "state": {
            "_dom_classes": [],
            "_model_module": "@jupyter-widgets/controls",
            "_model_module_version": "1.5.0",
            "_model_name": "HTMLModel",
            "_view_count": null,
            "_view_module": "@jupyter-widgets/controls",
            "_view_module_version": "1.5.0",
            "_view_name": "HTMLView",
            "description": "",
            "description_tooltip": null,
            "layout": "IPY_MODEL_1a210011512c41aa986f0a9eda200355",
            "placeholder": "​",
            "style": "IPY_MODEL_08bbd49600e44e7697858b7c9f740ed8",
            "value": ""
          }
        },
        "864b2c331ac64d6baf0e83dff479601e": {
          "model_module": "@jupyter-widgets/base",
          "model_name": "LayoutModel",
          "model_module_version": "1.2.0",
          "state": {
            "_model_module": "@jupyter-widgets/base",
            "_model_module_version": "1.2.0",
            "_model_name": "LayoutModel",
            "_view_count": null,
            "_view_module": "@jupyter-widgets/base",
            "_view_module_version": "1.2.0",
            "_view_name": "LayoutView",
            "align_content": null,
            "align_items": null,
            "align_self": null,
            "border": null,
            "bottom": null,
            "display": null,
            "flex": null,
            "flex_flow": null,
            "grid_area": null,
            "grid_auto_columns": null,
            "grid_auto_flow": null,
            "grid_auto_rows": null,
            "grid_column": null,
            "grid_gap": null,
            "grid_row": null,
            "grid_template_areas": null,
            "grid_template_columns": null,
            "grid_template_rows": null,
            "height": null,
            "justify_content": null,
            "justify_items": null,
            "left": null,
            "margin": null,
            "max_height": null,
            "max_width": null,
            "min_height": null,
            "min_width": null,
            "object_fit": null,
            "object_position": null,
            "order": null,
            "overflow": null,
            "overflow_x": null,
            "overflow_y": null,
            "padding": null,
            "right": null,
            "top": null,
            "visibility": null,
            "width": null
          }
        },
        "aa0c82b2df2444bc8fe0cb1968e04fe7": {
          "model_module": "@jupyter-widgets/base",
          "model_name": "LayoutModel",
          "model_module_version": "1.2.0",
          "state": {
            "_model_module": "@jupyter-widgets/base",
            "_model_module_version": "1.2.0",
            "_model_name": "LayoutModel",
            "_view_count": null,
            "_view_module": "@jupyter-widgets/base",
            "_view_module_version": "1.2.0",
            "_view_name": "LayoutView",
            "align_content": null,
            "align_items": null,
            "align_self": null,
            "border": null,
            "bottom": null,
            "display": null,
            "flex": null,
            "flex_flow": null,
            "grid_area": null,
            "grid_auto_columns": null,
            "grid_auto_flow": null,
            "grid_auto_rows": null,
            "grid_column": null,
            "grid_gap": null,
            "grid_row": null,
            "grid_template_areas": null,
            "grid_template_columns": null,
            "grid_template_rows": null,
            "height": null,
            "justify_content": null,
            "justify_items": null,
            "left": null,
            "margin": null,
            "max_height": null,
            "max_width": null,
            "min_height": null,
            "min_width": null,
            "object_fit": null,
            "object_position": null,
            "order": null,
            "overflow": null,
            "overflow_x": null,
            "overflow_y": null,
            "padding": null,
            "right": null,
            "top": null,
            "visibility": null,
            "width": null
          }
        },
        "67948468454a4ce09fc4aa39718fb2f0": {
          "model_module": "@jupyter-widgets/controls",
          "model_name": "DescriptionStyleModel",
          "model_module_version": "1.5.0",
          "state": {
            "_model_module": "@jupyter-widgets/controls",
            "_model_module_version": "1.5.0",
            "_model_name": "DescriptionStyleModel",
            "_view_count": null,
            "_view_module": "@jupyter-widgets/base",
            "_view_module_version": "1.2.0",
            "_view_name": "StyleView",
            "description_width": ""
          }
        },
        "df2942f2d786406c9376567be8477120": {
          "model_module": "@jupyter-widgets/base",
          "model_name": "LayoutModel",
          "model_module_version": "1.2.0",
          "state": {
            "_model_module": "@jupyter-widgets/base",
            "_model_module_version": "1.2.0",
            "_model_name": "LayoutModel",
            "_view_count": null,
            "_view_module": "@jupyter-widgets/base",
            "_view_module_version": "1.2.0",
            "_view_name": "LayoutView",
            "align_content": null,
            "align_items": null,
            "align_self": null,
            "border": null,
            "bottom": null,
            "display": null,
            "flex": null,
            "flex_flow": null,
            "grid_area": null,
            "grid_auto_columns": null,
            "grid_auto_flow": null,
            "grid_auto_rows": null,
            "grid_column": null,
            "grid_gap": null,
            "grid_row": null,
            "grid_template_areas": null,
            "grid_template_columns": null,
            "grid_template_rows": null,
            "height": null,
            "justify_content": null,
            "justify_items": null,
            "left": null,
            "margin": null,
            "max_height": null,
            "max_width": null,
            "min_height": null,
            "min_width": null,
            "object_fit": null,
            "object_position": null,
            "order": null,
            "overflow": null,
            "overflow_x": null,
            "overflow_y": null,
            "padding": null,
            "right": null,
            "top": null,
            "visibility": null,
            "width": null
          }
        },
        "4a59479ee2b04f528ff044e072340c82": {
          "model_module": "@jupyter-widgets/controls",
          "model_name": "ProgressStyleModel",
          "model_module_version": "1.5.0",
          "state": {
            "_model_module": "@jupyter-widgets/controls",
            "_model_module_version": "1.5.0",
            "_model_name": "ProgressStyleModel",
            "_view_count": null,
            "_view_module": "@jupyter-widgets/base",
            "_view_module_version": "1.2.0",
            "_view_name": "StyleView",
            "bar_color": null,
            "description_width": ""
          }
        },
        "1a210011512c41aa986f0a9eda200355": {
          "model_module": "@jupyter-widgets/base",
          "model_name": "LayoutModel",
          "model_module_version": "1.2.0",
          "state": {
            "_model_module": "@jupyter-widgets/base",
            "_model_module_version": "1.2.0",
            "_model_name": "LayoutModel",
            "_view_count": null,
            "_view_module": "@jupyter-widgets/base",
            "_view_module_version": "1.2.0",
            "_view_name": "LayoutView",
            "align_content": null,
            "align_items": null,
            "align_self": null,
            "border": null,
            "bottom": null,
            "display": null,
            "flex": null,
            "flex_flow": null,
            "grid_area": null,
            "grid_auto_columns": null,
            "grid_auto_flow": null,
            "grid_auto_rows": null,
            "grid_column": null,
            "grid_gap": null,
            "grid_row": null,
            "grid_template_areas": null,
            "grid_template_columns": null,
            "grid_template_rows": null,
            "height": null,
            "justify_content": null,
            "justify_items": null,
            "left": null,
            "margin": null,
            "max_height": null,
            "max_width": null,
            "min_height": null,
            "min_width": null,
            "object_fit": null,
            "object_position": null,
            "order": null,
            "overflow": null,
            "overflow_x": null,
            "overflow_y": null,
            "padding": null,
            "right": null,
            "top": null,
            "visibility": null,
            "width": null
          }
        },
        "08bbd49600e44e7697858b7c9f740ed8": {
          "model_module": "@jupyter-widgets/controls",
          "model_name": "DescriptionStyleModel",
          "model_module_version": "1.5.0",
          "state": {
            "_model_module": "@jupyter-widgets/controls",
            "_model_module_version": "1.5.0",
            "_model_name": "DescriptionStyleModel",
            "_view_count": null,
            "_view_module": "@jupyter-widgets/base",
            "_view_module_version": "1.2.0",
            "_view_name": "StyleView",
            "description_width": ""
          }
        },
        "80dfab2d366a47e492b92e3ff4fbf3c4": {
          "model_module": "@jupyter-widgets/controls",
          "model_name": "HBoxModel",
          "model_module_version": "1.5.0",
          "state": {
            "_dom_classes": [],
            "_model_module": "@jupyter-widgets/controls",
            "_model_module_version": "1.5.0",
            "_model_name": "HBoxModel",
            "_view_count": null,
            "_view_module": "@jupyter-widgets/controls",
            "_view_module_version": "1.5.0",
            "_view_name": "HBoxView",
            "box_style": "",
            "children": [
              "IPY_MODEL_5220fc32e0ae4f96b411679415d909a8",
              "IPY_MODEL_3b7a91546ce24df0811c68c09d14b7c8",
              "IPY_MODEL_7c2c3370c0c0481a97c04b3364f968ca"
            ],
            "layout": "IPY_MODEL_217c0b4747bc487a8ee1ef41f03048dc"
          }
        },
        "5220fc32e0ae4f96b411679415d909a8": {
          "model_module": "@jupyter-widgets/controls",
          "model_name": "HTMLModel",
          "model_module_version": "1.5.0",
          "state": {
            "_dom_classes": [],
            "_model_module": "@jupyter-widgets/controls",
            "_model_module_version": "1.5.0",
            "_model_name": "HTMLModel",
            "_view_count": null,
            "_view_module": "@jupyter-widgets/controls",
            "_view_module_version": "1.5.0",
            "_view_name": "HTMLView",
            "description": "",
            "description_tooltip": null,
            "layout": "IPY_MODEL_224498de20e04643a39b95b36b2f4317",
            "placeholder": "​",
            "style": "IPY_MODEL_4357ee8effb94f4799f0fcc5fc73d8e2",
            "value": "Downloading: 100%"
          }
        },
        "3b7a91546ce24df0811c68c09d14b7c8": {
          "model_module": "@jupyter-widgets/controls",
          "model_name": "FloatProgressModel",
          "model_module_version": "1.5.0",
          "state": {
            "_dom_classes": [],
            "_model_module": "@jupyter-widgets/controls",
            "_model_module_version": "1.5.0",
            "_model_name": "FloatProgressModel",
            "_view_count": null,
            "_view_module": "@jupyter-widgets/controls",
            "_view_module_version": "1.5.0",
            "_view_name": "ProgressView",
            "bar_style": "success",
            "description": "",
            "description_tooltip": null,
            "layout": "IPY_MODEL_948b29e395274aa988abe68328782a81",
            "max": 51230,
            "min": 0,
            "orientation": "horizontal",
            "style": "IPY_MODEL_19cba0211487495da8e0772f2951a3d1",
            "value": 51230
          }
        },
        "7c2c3370c0c0481a97c04b3364f968ca": {
          "model_module": "@jupyter-widgets/controls",
          "model_name": "HTMLModel",
          "model_module_version": "1.5.0",
          "state": {
            "_dom_classes": [],
            "_model_module": "@jupyter-widgets/controls",
            "_model_module_version": "1.5.0",
            "_model_name": "HTMLModel",
            "_view_count": null,
            "_view_module": "@jupyter-widgets/controls",
            "_view_module_version": "1.5.0",
            "_view_name": "HTMLView",
            "description": "",
            "description_tooltip": null,
            "layout": "IPY_MODEL_fae7d06c21954694a8b032228d696efa",
            "placeholder": "​",
            "style": "IPY_MODEL_572728f5eac3453c931f95427266465c",
            "value": ""
          }
        },
        "217c0b4747bc487a8ee1ef41f03048dc": {
          "model_module": "@jupyter-widgets/base",
          "model_name": "LayoutModel",
          "model_module_version": "1.2.0",
          "state": {
            "_model_module": "@jupyter-widgets/base",
            "_model_module_version": "1.2.0",
            "_model_name": "LayoutModel",
            "_view_count": null,
            "_view_module": "@jupyter-widgets/base",
            "_view_module_version": "1.2.0",
            "_view_name": "LayoutView",
            "align_content": null,
            "align_items": null,
            "align_self": null,
            "border": null,
            "bottom": null,
            "display": null,
            "flex": null,
            "flex_flow": null,
            "grid_area": null,
            "grid_auto_columns": null,
            "grid_auto_flow": null,
            "grid_auto_rows": null,
            "grid_column": null,
            "grid_gap": null,
            "grid_row": null,
            "grid_template_areas": null,
            "grid_template_columns": null,
            "grid_template_rows": null,
            "height": null,
            "justify_content": null,
            "justify_items": null,
            "left": null,
            "margin": null,
            "max_height": null,
            "max_width": null,
            "min_height": null,
            "min_width": null,
            "object_fit": null,
            "object_position": null,
            "order": null,
            "overflow": null,
            "overflow_x": null,
            "overflow_y": null,
            "padding": null,
            "right": null,
            "top": null,
            "visibility": null,
            "width": null
          }
        },
        "224498de20e04643a39b95b36b2f4317": {
          "model_module": "@jupyter-widgets/base",
          "model_name": "LayoutModel",
          "model_module_version": "1.2.0",
          "state": {
            "_model_module": "@jupyter-widgets/base",
            "_model_module_version": "1.2.0",
            "_model_name": "LayoutModel",
            "_view_count": null,
            "_view_module": "@jupyter-widgets/base",
            "_view_module_version": "1.2.0",
            "_view_name": "LayoutView",
            "align_content": null,
            "align_items": null,
            "align_self": null,
            "border": null,
            "bottom": null,
            "display": null,
            "flex": null,
            "flex_flow": null,
            "grid_area": null,
            "grid_auto_columns": null,
            "grid_auto_flow": null,
            "grid_auto_rows": null,
            "grid_column": null,
            "grid_gap": null,
            "grid_row": null,
            "grid_template_areas": null,
            "grid_template_columns": null,
            "grid_template_rows": null,
            "height": null,
            "justify_content": null,
            "justify_items": null,
            "left": null,
            "margin": null,
            "max_height": null,
            "max_width": null,
            "min_height": null,
            "min_width": null,
            "object_fit": null,
            "object_position": null,
            "order": null,
            "overflow": null,
            "overflow_x": null,
            "overflow_y": null,
            "padding": null,
            "right": null,
            "top": null,
            "visibility": null,
            "width": null
          }
        },
        "4357ee8effb94f4799f0fcc5fc73d8e2": {
          "model_module": "@jupyter-widgets/controls",
          "model_name": "DescriptionStyleModel",
          "model_module_version": "1.5.0",
          "state": {
            "_model_module": "@jupyter-widgets/controls",
            "_model_module_version": "1.5.0",
            "_model_name": "DescriptionStyleModel",
            "_view_count": null,
            "_view_module": "@jupyter-widgets/base",
            "_view_module_version": "1.2.0",
            "_view_name": "StyleView",
            "description_width": ""
          }
        },
        "948b29e395274aa988abe68328782a81": {
          "model_module": "@jupyter-widgets/base",
          "model_name": "LayoutModel",
          "model_module_version": "1.2.0",
          "state": {
            "_model_module": "@jupyter-widgets/base",
            "_model_module_version": "1.2.0",
            "_model_name": "LayoutModel",
            "_view_count": null,
            "_view_module": "@jupyter-widgets/base",
            "_view_module_version": "1.2.0",
            "_view_name": "LayoutView",
            "align_content": null,
            "align_items": null,
            "align_self": null,
            "border": null,
            "bottom": null,
            "display": null,
            "flex": null,
            "flex_flow": null,
            "grid_area": null,
            "grid_auto_columns": null,
            "grid_auto_flow": null,
            "grid_auto_rows": null,
            "grid_column": null,
            "grid_gap": null,
            "grid_row": null,
            "grid_template_areas": null,
            "grid_template_columns": null,
            "grid_template_rows": null,
            "height": null,
            "justify_content": null,
            "justify_items": null,
            "left": null,
            "margin": null,
            "max_height": null,
            "max_width": null,
            "min_height": null,
            "min_width": null,
            "object_fit": null,
            "object_position": null,
            "order": null,
            "overflow": null,
            "overflow_x": null,
            "overflow_y": null,
            "padding": null,
            "right": null,
            "top": null,
            "visibility": null,
            "width": null
          }
        },
        "19cba0211487495da8e0772f2951a3d1": {
          "model_module": "@jupyter-widgets/controls",
          "model_name": "ProgressStyleModel",
          "model_module_version": "1.5.0",
          "state": {
            "_model_module": "@jupyter-widgets/controls",
            "_model_module_version": "1.5.0",
            "_model_name": "ProgressStyleModel",
            "_view_count": null,
            "_view_module": "@jupyter-widgets/base",
            "_view_module_version": "1.2.0",
            "_view_name": "StyleView",
            "bar_color": null,
            "description_width": ""
          }
        },
        "fae7d06c21954694a8b032228d696efa": {
          "model_module": "@jupyter-widgets/base",
          "model_name": "LayoutModel",
          "model_module_version": "1.2.0",
          "state": {
            "_model_module": "@jupyter-widgets/base",
            "_model_module_version": "1.2.0",
            "_model_name": "LayoutModel",
            "_view_count": null,
            "_view_module": "@jupyter-widgets/base",
            "_view_module_version": "1.2.0",
            "_view_name": "LayoutView",
            "align_content": null,
            "align_items": null,
            "align_self": null,
            "border": null,
            "bottom": null,
            "display": null,
            "flex": null,
            "flex_flow": null,
            "grid_area": null,
            "grid_auto_columns": null,
            "grid_auto_flow": null,
            "grid_auto_rows": null,
            "grid_column": null,
            "grid_gap": null,
            "grid_row": null,
            "grid_template_areas": null,
            "grid_template_columns": null,
            "grid_template_rows": null,
            "height": null,
            "justify_content": null,
            "justify_items": null,
            "left": null,
            "margin": null,
            "max_height": null,
            "max_width": null,
            "min_height": null,
            "min_width": null,
            "object_fit": null,
            "object_position": null,
            "order": null,
            "overflow": null,
            "overflow_x": null,
            "overflow_y": null,
            "padding": null,
            "right": null,
            "top": null,
            "visibility": null,
            "width": null
          }
        },
        "572728f5eac3453c931f95427266465c": {
          "model_module": "@jupyter-widgets/controls",
          "model_name": "DescriptionStyleModel",
          "model_module_version": "1.5.0",
          "state": {
            "_model_module": "@jupyter-widgets/controls",
            "_model_module_version": "1.5.0",
            "_model_name": "DescriptionStyleModel",
            "_view_count": null,
            "_view_module": "@jupyter-widgets/base",
            "_view_module_version": "1.2.0",
            "_view_name": "StyleView",
            "description_width": ""
          }
        }
      }
    }
  },
  "cells": [
    {
      "cell_type": "markdown",
      "metadata": {
        "id": "view-in-github",
        "colab_type": "text"
      },
      "source": [
        "<a href=\"https://colab.research.google.com/github/denbonte/cloudyday/blob/main/notebooks/download_benchmark.ipynb\" target=\"_parent\"><img src=\"https://colab.research.google.com/assets/colab-badge.svg\" alt=\"Open In Colab\"/></a>"
      ]
    },
    {
      "cell_type": "markdown",
      "source": [
        "# Environment Setup"
      ],
      "metadata": {
        "id": "-uEui8vkK4e2"
      }
    },
    {
      "cell_type": "code",
      "execution_count": 1,
      "metadata": {
        "id": "Kg6xrmLaJkxw"
      },
      "outputs": [],
      "source": [
        "from google.colab import auth\n",
        "auth.authenticate_user()"
      ]
    },
    {
      "cell_type": "code",
      "source": [
        "import time\n",
        "import pprint\n",
        "import pandas as pd\n",
        "\n",
        "pp = pprint.PrettyPrinter(indent=4)"
      ],
      "metadata": {
        "id": "oefZuKuyNL5B"
      },
      "execution_count": 2,
      "outputs": []
    },
    {
      "cell_type": "code",
      "source": [
        "my_ProjectID=\"idc-sandbox-000\""
      ],
      "metadata": {
        "id": "qPkzTI3PKBPK"
      },
      "execution_count": 3,
      "outputs": []
    },
    {
      "cell_type": "code",
      "source": [
        "%%bigquery cohort_df --project=$my_ProjectID\n",
        "\n",
        "SELECT\n",
        "  PatientID,\n",
        "  StudyInstanceUID,\n",
        "  SeriesInstanceUID,\n",
        "  SOPInstanceUID,\n",
        "  gcs_url\n",
        "FROM\n",
        "  `bigquery-public-data.idc_current.dicom_all`\n",
        "WHERE\n",
        "  collection_id = \"nsclc_radiomics\"\n",
        "  AND Modality = \"CT\"\n",
        "ORDER BY\n",
        "  PatientID"
      ],
      "metadata": {
        "colab": {
          "base_uri": "https://localhost:8080/",
          "height": 81,
          "referenced_widgets": [
            "252ede2f40f54bf78016cf8cd958c0f8",
            "5ddf9dc94af94567b5f42485320f0908",
            "ba51f83f251846998fe5a8a99f7c7bfe",
            "3753c954886241278fdf1696f0b9dd0a",
            "864b2c331ac64d6baf0e83dff479601e",
            "aa0c82b2df2444bc8fe0cb1968e04fe7",
            "67948468454a4ce09fc4aa39718fb2f0",
            "df2942f2d786406c9376567be8477120",
            "4a59479ee2b04f528ff044e072340c82",
            "1a210011512c41aa986f0a9eda200355",
            "08bbd49600e44e7697858b7c9f740ed8",
            "80dfab2d366a47e492b92e3ff4fbf3c4",
            "5220fc32e0ae4f96b411679415d909a8",
            "3b7a91546ce24df0811c68c09d14b7c8",
            "7c2c3370c0c0481a97c04b3364f968ca",
            "217c0b4747bc487a8ee1ef41f03048dc",
            "224498de20e04643a39b95b36b2f4317",
            "4357ee8effb94f4799f0fcc5fc73d8e2",
            "948b29e395274aa988abe68328782a81",
            "19cba0211487495da8e0772f2951a3d1",
            "fae7d06c21954694a8b032228d696efa",
            "572728f5eac3453c931f95427266465c"
          ]
        },
        "id": "1uGH9RpIJvSi",
        "outputId": "effec37d-4a88-48ae-88a3-692878e0cebd"
      },
      "execution_count": 4,
      "outputs": [
        {
          "output_type": "display_data",
          "data": {
            "text/plain": [
              "Query is running:   0%|          |"
            ],
            "application/vnd.jupyter.widget-view+json": {
              "version_major": 2,
              "version_minor": 0,
              "model_id": "252ede2f40f54bf78016cf8cd958c0f8"
            }
          },
          "metadata": {}
        },
        {
          "output_type": "display_data",
          "data": {
            "text/plain": [
              "Downloading:   0%|          |"
            ],
            "application/vnd.jupyter.widget-view+json": {
              "version_major": 2,
              "version_minor": 0,
              "model_id": "80dfab2d366a47e492b92e3ff4fbf3c4"
            }
          },
          "metadata": {}
        }
      ]
    },
    {
      "cell_type": "code",
      "source": [
        "display(cohort_df.info())\n",
        "display(cohort_df.head())"
      ],
      "metadata": {
        "colab": {
          "base_uri": "https://localhost:8080/",
          "height": 918
        },
        "id": "2nexoMQyJvUs",
        "outputId": "b91dc51d-410c-4743-8f2a-af3b088887e8"
      },
      "execution_count": 5,
      "outputs": [
        {
          "output_type": "stream",
          "name": "stdout",
          "text": [
            "<class 'pandas.core.frame.DataFrame'>\n",
            "RangeIndex: 51230 entries, 0 to 51229\n",
            "Data columns (total 5 columns):\n",
            " #   Column             Non-Null Count  Dtype \n",
            "---  ------             --------------  ----- \n",
            " 0   PatientID          51230 non-null  object\n",
            " 1   StudyInstanceUID   51230 non-null  object\n",
            " 2   SeriesInstanceUID  51230 non-null  object\n",
            " 3   SOPInstanceUID     51230 non-null  object\n",
            " 4   gcs_url            51230 non-null  object\n",
            "dtypes: object(5)\n",
            "memory usage: 2.0+ MB\n"
          ]
        },
        {
          "output_type": "display_data",
          "data": {
            "text/plain": [
              "None"
            ]
          },
          "metadata": {}
        },
        {
          "output_type": "display_data",
          "data": {
            "text/plain": [
              "   PatientID                                   StudyInstanceUID  \\\n",
              "0  LUNG1-001  1.3.6.1.4.1.32722.99.99.2393413539117143687725...   \n",
              "1  LUNG1-001  1.3.6.1.4.1.32722.99.99.2393413539117143687725...   \n",
              "2  LUNG1-001  1.3.6.1.4.1.32722.99.99.2393413539117143687725...   \n",
              "3  LUNG1-001  1.3.6.1.4.1.32722.99.99.2393413539117143687725...   \n",
              "4  LUNG1-001  1.3.6.1.4.1.32722.99.99.2393413539117143687725...   \n",
              "\n",
              "                                   SeriesInstanceUID  \\\n",
              "0  1.3.6.1.4.1.32722.99.99.2989917765213423750108...   \n",
              "1  1.3.6.1.4.1.32722.99.99.2989917765213423750108...   \n",
              "2  1.3.6.1.4.1.32722.99.99.2989917765213423750108...   \n",
              "3  1.3.6.1.4.1.32722.99.99.2989917765213423750108...   \n",
              "4  1.3.6.1.4.1.32722.99.99.2989917765213423750108...   \n",
              "\n",
              "                                      SOPInstanceUID  \\\n",
              "0  1.3.6.1.4.1.32722.99.99.3078801584366390810576...   \n",
              "1  1.3.6.1.4.1.32722.99.99.3107100702111033256711...   \n",
              "2  1.3.6.1.4.1.32722.99.99.1064644568755722921755...   \n",
              "3  1.3.6.1.4.1.32722.99.99.1378828584856047266870...   \n",
              "4  1.3.6.1.4.1.32722.99.99.6917641808288785879158...   \n",
              "\n",
              "                                             gcs_url  \n",
              "0  gs://idc-open-cr/ed62c42c-c261-44c4-a4a5-0bc77...  \n",
              "1  gs://idc-open-cr/23b87c17-76eb-405d-a033-b8f55...  \n",
              "2  gs://idc-open-cr/fdbe15bb-a030-4a8d-b041-b4a73...  \n",
              "3  gs://idc-open-cr/7193a2f1-781a-4017-b92f-56f28...  \n",
              "4  gs://idc-open-cr/ed7c0188-93ed-480b-a8b0-31887...  "
            ],
            "text/html": [
              "\n",
              "  <div id=\"df-e608fbcc-30a2-40b1-a55f-bdd9a8e26b4f\">\n",
              "    <div class=\"colab-df-container\">\n",
              "      <div>\n",
              "<style scoped>\n",
              "    .dataframe tbody tr th:only-of-type {\n",
              "        vertical-align: middle;\n",
              "    }\n",
              "\n",
              "    .dataframe tbody tr th {\n",
              "        vertical-align: top;\n",
              "    }\n",
              "\n",
              "    .dataframe thead th {\n",
              "        text-align: right;\n",
              "    }\n",
              "</style>\n",
              "<table border=\"1\" class=\"dataframe\">\n",
              "  <thead>\n",
              "    <tr style=\"text-align: right;\">\n",
              "      <th></th>\n",
              "      <th>PatientID</th>\n",
              "      <th>StudyInstanceUID</th>\n",
              "      <th>SeriesInstanceUID</th>\n",
              "      <th>SOPInstanceUID</th>\n",
              "      <th>gcs_url</th>\n",
              "    </tr>\n",
              "  </thead>\n",
              "  <tbody>\n",
              "    <tr>\n",
              "      <th>0</th>\n",
              "      <td>LUNG1-001</td>\n",
              "      <td>1.3.6.1.4.1.32722.99.99.2393413539117143687725...</td>\n",
              "      <td>1.3.6.1.4.1.32722.99.99.2989917765213423750108...</td>\n",
              "      <td>1.3.6.1.4.1.32722.99.99.3078801584366390810576...</td>\n",
              "      <td>gs://idc-open-cr/ed62c42c-c261-44c4-a4a5-0bc77...</td>\n",
              "    </tr>\n",
              "    <tr>\n",
              "      <th>1</th>\n",
              "      <td>LUNG1-001</td>\n",
              "      <td>1.3.6.1.4.1.32722.99.99.2393413539117143687725...</td>\n",
              "      <td>1.3.6.1.4.1.32722.99.99.2989917765213423750108...</td>\n",
              "      <td>1.3.6.1.4.1.32722.99.99.3107100702111033256711...</td>\n",
              "      <td>gs://idc-open-cr/23b87c17-76eb-405d-a033-b8f55...</td>\n",
              "    </tr>\n",
              "    <tr>\n",
              "      <th>2</th>\n",
              "      <td>LUNG1-001</td>\n",
              "      <td>1.3.6.1.4.1.32722.99.99.2393413539117143687725...</td>\n",
              "      <td>1.3.6.1.4.1.32722.99.99.2989917765213423750108...</td>\n",
              "      <td>1.3.6.1.4.1.32722.99.99.1064644568755722921755...</td>\n",
              "      <td>gs://idc-open-cr/fdbe15bb-a030-4a8d-b041-b4a73...</td>\n",
              "    </tr>\n",
              "    <tr>\n",
              "      <th>3</th>\n",
              "      <td>LUNG1-001</td>\n",
              "      <td>1.3.6.1.4.1.32722.99.99.2393413539117143687725...</td>\n",
              "      <td>1.3.6.1.4.1.32722.99.99.2989917765213423750108...</td>\n",
              "      <td>1.3.6.1.4.1.32722.99.99.1378828584856047266870...</td>\n",
              "      <td>gs://idc-open-cr/7193a2f1-781a-4017-b92f-56f28...</td>\n",
              "    </tr>\n",
              "    <tr>\n",
              "      <th>4</th>\n",
              "      <td>LUNG1-001</td>\n",
              "      <td>1.3.6.1.4.1.32722.99.99.2393413539117143687725...</td>\n",
              "      <td>1.3.6.1.4.1.32722.99.99.2989917765213423750108...</td>\n",
              "      <td>1.3.6.1.4.1.32722.99.99.6917641808288785879158...</td>\n",
              "      <td>gs://idc-open-cr/ed7c0188-93ed-480b-a8b0-31887...</td>\n",
              "    </tr>\n",
              "  </tbody>\n",
              "</table>\n",
              "</div>\n",
              "      <button class=\"colab-df-convert\" onclick=\"convertToInteractive('df-e608fbcc-30a2-40b1-a55f-bdd9a8e26b4f')\"\n",
              "              title=\"Convert this dataframe to an interactive table.\"\n",
              "              style=\"display:none;\">\n",
              "        \n",
              "  <svg xmlns=\"http://www.w3.org/2000/svg\" height=\"24px\"viewBox=\"0 0 24 24\"\n",
              "       width=\"24px\">\n",
              "    <path d=\"M0 0h24v24H0V0z\" fill=\"none\"/>\n",
              "    <path d=\"M18.56 5.44l.94 2.06.94-2.06 2.06-.94-2.06-.94-.94-2.06-.94 2.06-2.06.94zm-11 1L8.5 8.5l.94-2.06 2.06-.94-2.06-.94L8.5 2.5l-.94 2.06-2.06.94zm10 10l.94 2.06.94-2.06 2.06-.94-2.06-.94-.94-2.06-.94 2.06-2.06.94z\"/><path d=\"M17.41 7.96l-1.37-1.37c-.4-.4-.92-.59-1.43-.59-.52 0-1.04.2-1.43.59L10.3 9.45l-7.72 7.72c-.78.78-.78 2.05 0 2.83L4 21.41c.39.39.9.59 1.41.59.51 0 1.02-.2 1.41-.59l7.78-7.78 2.81-2.81c.8-.78.8-2.07 0-2.86zM5.41 20L4 18.59l7.72-7.72 1.47 1.35L5.41 20z\"/>\n",
              "  </svg>\n",
              "      </button>\n",
              "      \n",
              "  <style>\n",
              "    .colab-df-container {\n",
              "      display:flex;\n",
              "      flex-wrap:wrap;\n",
              "      gap: 12px;\n",
              "    }\n",
              "\n",
              "    .colab-df-convert {\n",
              "      background-color: #E8F0FE;\n",
              "      border: none;\n",
              "      border-radius: 50%;\n",
              "      cursor: pointer;\n",
              "      display: none;\n",
              "      fill: #1967D2;\n",
              "      height: 32px;\n",
              "      padding: 0 0 0 0;\n",
              "      width: 32px;\n",
              "    }\n",
              "\n",
              "    .colab-df-convert:hover {\n",
              "      background-color: #E2EBFA;\n",
              "      box-shadow: 0px 1px 2px rgba(60, 64, 67, 0.3), 0px 1px 3px 1px rgba(60, 64, 67, 0.15);\n",
              "      fill: #174EA6;\n",
              "    }\n",
              "\n",
              "    [theme=dark] .colab-df-convert {\n",
              "      background-color: #3B4455;\n",
              "      fill: #D2E3FC;\n",
              "    }\n",
              "\n",
              "    [theme=dark] .colab-df-convert:hover {\n",
              "      background-color: #434B5C;\n",
              "      box-shadow: 0px 1px 3px 1px rgba(0, 0, 0, 0.15);\n",
              "      filter: drop-shadow(0px 1px 2px rgba(0, 0, 0, 0.3));\n",
              "      fill: #FFFFFF;\n",
              "    }\n",
              "  </style>\n",
              "\n",
              "      <script>\n",
              "        const buttonEl =\n",
              "          document.querySelector('#df-e608fbcc-30a2-40b1-a55f-bdd9a8e26b4f button.colab-df-convert');\n",
              "        buttonEl.style.display =\n",
              "          google.colab.kernel.accessAllowed ? 'block' : 'none';\n",
              "\n",
              "        async function convertToInteractive(key) {\n",
              "          const element = document.querySelector('#df-e608fbcc-30a2-40b1-a55f-bdd9a8e26b4f');\n",
              "          const dataTable =\n",
              "            await google.colab.kernel.invokeFunction('convertToInteractive',\n",
              "                                                     [key], {});\n",
              "          if (!dataTable) return;\n",
              "\n",
              "          const docLinkHtml = 'Like what you see? Visit the ' +\n",
              "            '<a target=\"_blank\" href=https://colab.research.google.com/notebooks/data_table.ipynb>data table notebook</a>'\n",
              "            + ' to learn more about interactive tables.';\n",
              "          element.innerHTML = '';\n",
              "          dataTable['output_type'] = 'display_data';\n",
              "          await google.colab.output.renderOutput(dataTable, element);\n",
              "          const docLink = document.createElement('div');\n",
              "          docLink.innerHTML = docLinkHtml;\n",
              "          element.appendChild(docLink);\n",
              "        }\n",
              "      </script>\n",
              "    </div>\n",
              "  </div>\n",
              "  "
            ]
          },
          "metadata": {}
        }
      ]
    },
    {
      "cell_type": "code",
      "source": [
        "n_files = 100\n",
        "\n",
        "download_df = cohort_df.sample(n=n_files)"
      ],
      "metadata": {
        "id": "q607PmIJLSgR"
      },
      "execution_count": 6,
      "outputs": []
    },
    {
      "cell_type": "code",
      "source": [
        "display(download_df.info())\n",
        "display(download_df.head())"
      ],
      "metadata": {
        "colab": {
          "base_uri": "https://localhost:8080/",
          "height": 918
        },
        "id": "L_b71geyLjGO",
        "outputId": "b0e6f6a7-93e4-4b0d-c28c-cb0385b088b2"
      },
      "execution_count": 7,
      "outputs": [
        {
          "output_type": "stream",
          "name": "stdout",
          "text": [
            "<class 'pandas.core.frame.DataFrame'>\n",
            "Int64Index: 100 entries, 27038 to 43556\n",
            "Data columns (total 5 columns):\n",
            " #   Column             Non-Null Count  Dtype \n",
            "---  ------             --------------  ----- \n",
            " 0   PatientID          100 non-null    object\n",
            " 1   StudyInstanceUID   100 non-null    object\n",
            " 2   SeriesInstanceUID  100 non-null    object\n",
            " 3   SOPInstanceUID     100 non-null    object\n",
            " 4   gcs_url            100 non-null    object\n",
            "dtypes: object(5)\n",
            "memory usage: 4.7+ KB\n"
          ]
        },
        {
          "output_type": "display_data",
          "data": {
            "text/plain": [
              "None"
            ]
          },
          "metadata": {}
        },
        {
          "output_type": "display_data",
          "data": {
            "text/plain": [
              "       PatientID                                   StudyInstanceUID  \\\n",
              "27038  LUNG1-227  1.3.6.1.4.1.32722.99.99.1989709697704955656146...   \n",
              "37199  LUNG1-312  1.3.6.1.4.1.32722.99.99.1603377547615004984057...   \n",
              "36335  LUNG1-305  1.3.6.1.4.1.32722.99.99.4360676840672721761269...   \n",
              "27827  LUNG1-234  1.3.6.1.4.1.32722.99.99.1317138268151957567772...   \n",
              "16513  LUNG1-135  1.3.6.1.4.1.32722.99.99.2921823024595425627942...   \n",
              "\n",
              "                                       SeriesInstanceUID  \\\n",
              "27038  1.3.6.1.4.1.32722.99.99.5448810342014241190167...   \n",
              "37199  1.3.6.1.4.1.32722.99.99.1778530212264410538017...   \n",
              "36335  1.3.6.1.4.1.32722.99.99.2361372690355890221495...   \n",
              "27827  1.3.6.1.4.1.32722.99.99.7308403259596767149055...   \n",
              "16513  1.3.6.1.4.1.32722.99.99.5825903003270826957461...   \n",
              "\n",
              "                                          SOPInstanceUID  \\\n",
              "27038  1.3.6.1.4.1.32722.99.99.2635045216481242699723...   \n",
              "37199  1.3.6.1.4.1.32722.99.99.2859403269335242664808...   \n",
              "36335  1.3.6.1.4.1.32722.99.99.2690314822174868726883...   \n",
              "27827  1.3.6.1.4.1.32722.99.99.2619094412363693586080...   \n",
              "16513  1.3.6.1.4.1.32722.99.99.3163058686241361219071...   \n",
              "\n",
              "                                                 gcs_url  \n",
              "27038  gs://idc-open-cr/b1630375-cc61-4bcc-9f6f-05d98...  \n",
              "37199  gs://idc-open-cr/3db69bc1-e209-4a62-a31e-0b701...  \n",
              "36335  gs://idc-open-cr/8f7d9de1-68e2-4b66-b7c4-8c178...  \n",
              "27827  gs://idc-open-cr/9158dbc8-05d2-4524-8963-b338d...  \n",
              "16513  gs://idc-open-cr/822151c5-3410-4027-a308-21122...  "
            ],
            "text/html": [
              "\n",
              "  <div id=\"df-e281ab53-a4b5-4ac3-a296-0bcf2887d44d\">\n",
              "    <div class=\"colab-df-container\">\n",
              "      <div>\n",
              "<style scoped>\n",
              "    .dataframe tbody tr th:only-of-type {\n",
              "        vertical-align: middle;\n",
              "    }\n",
              "\n",
              "    .dataframe tbody tr th {\n",
              "        vertical-align: top;\n",
              "    }\n",
              "\n",
              "    .dataframe thead th {\n",
              "        text-align: right;\n",
              "    }\n",
              "</style>\n",
              "<table border=\"1\" class=\"dataframe\">\n",
              "  <thead>\n",
              "    <tr style=\"text-align: right;\">\n",
              "      <th></th>\n",
              "      <th>PatientID</th>\n",
              "      <th>StudyInstanceUID</th>\n",
              "      <th>SeriesInstanceUID</th>\n",
              "      <th>SOPInstanceUID</th>\n",
              "      <th>gcs_url</th>\n",
              "    </tr>\n",
              "  </thead>\n",
              "  <tbody>\n",
              "    <tr>\n",
              "      <th>27038</th>\n",
              "      <td>LUNG1-227</td>\n",
              "      <td>1.3.6.1.4.1.32722.99.99.1989709697704955656146...</td>\n",
              "      <td>1.3.6.1.4.1.32722.99.99.5448810342014241190167...</td>\n",
              "      <td>1.3.6.1.4.1.32722.99.99.2635045216481242699723...</td>\n",
              "      <td>gs://idc-open-cr/b1630375-cc61-4bcc-9f6f-05d98...</td>\n",
              "    </tr>\n",
              "    <tr>\n",
              "      <th>37199</th>\n",
              "      <td>LUNG1-312</td>\n",
              "      <td>1.3.6.1.4.1.32722.99.99.1603377547615004984057...</td>\n",
              "      <td>1.3.6.1.4.1.32722.99.99.1778530212264410538017...</td>\n",
              "      <td>1.3.6.1.4.1.32722.99.99.2859403269335242664808...</td>\n",
              "      <td>gs://idc-open-cr/3db69bc1-e209-4a62-a31e-0b701...</td>\n",
              "    </tr>\n",
              "    <tr>\n",
              "      <th>36335</th>\n",
              "      <td>LUNG1-305</td>\n",
              "      <td>1.3.6.1.4.1.32722.99.99.4360676840672721761269...</td>\n",
              "      <td>1.3.6.1.4.1.32722.99.99.2361372690355890221495...</td>\n",
              "      <td>1.3.6.1.4.1.32722.99.99.2690314822174868726883...</td>\n",
              "      <td>gs://idc-open-cr/8f7d9de1-68e2-4b66-b7c4-8c178...</td>\n",
              "    </tr>\n",
              "    <tr>\n",
              "      <th>27827</th>\n",
              "      <td>LUNG1-234</td>\n",
              "      <td>1.3.6.1.4.1.32722.99.99.1317138268151957567772...</td>\n",
              "      <td>1.3.6.1.4.1.32722.99.99.7308403259596767149055...</td>\n",
              "      <td>1.3.6.1.4.1.32722.99.99.2619094412363693586080...</td>\n",
              "      <td>gs://idc-open-cr/9158dbc8-05d2-4524-8963-b338d...</td>\n",
              "    </tr>\n",
              "    <tr>\n",
              "      <th>16513</th>\n",
              "      <td>LUNG1-135</td>\n",
              "      <td>1.3.6.1.4.1.32722.99.99.2921823024595425627942...</td>\n",
              "      <td>1.3.6.1.4.1.32722.99.99.5825903003270826957461...</td>\n",
              "      <td>1.3.6.1.4.1.32722.99.99.3163058686241361219071...</td>\n",
              "      <td>gs://idc-open-cr/822151c5-3410-4027-a308-21122...</td>\n",
              "    </tr>\n",
              "  </tbody>\n",
              "</table>\n",
              "</div>\n",
              "      <button class=\"colab-df-convert\" onclick=\"convertToInteractive('df-e281ab53-a4b5-4ac3-a296-0bcf2887d44d')\"\n",
              "              title=\"Convert this dataframe to an interactive table.\"\n",
              "              style=\"display:none;\">\n",
              "        \n",
              "  <svg xmlns=\"http://www.w3.org/2000/svg\" height=\"24px\"viewBox=\"0 0 24 24\"\n",
              "       width=\"24px\">\n",
              "    <path d=\"M0 0h24v24H0V0z\" fill=\"none\"/>\n",
              "    <path d=\"M18.56 5.44l.94 2.06.94-2.06 2.06-.94-2.06-.94-.94-2.06-.94 2.06-2.06.94zm-11 1L8.5 8.5l.94-2.06 2.06-.94-2.06-.94L8.5 2.5l-.94 2.06-2.06.94zm10 10l.94 2.06.94-2.06 2.06-.94-2.06-.94-.94-2.06-.94 2.06-2.06.94z\"/><path d=\"M17.41 7.96l-1.37-1.37c-.4-.4-.92-.59-1.43-.59-.52 0-1.04.2-1.43.59L10.3 9.45l-7.72 7.72c-.78.78-.78 2.05 0 2.83L4 21.41c.39.39.9.59 1.41.59.51 0 1.02-.2 1.41-.59l7.78-7.78 2.81-2.81c.8-.78.8-2.07 0-2.86zM5.41 20L4 18.59l7.72-7.72 1.47 1.35L5.41 20z\"/>\n",
              "  </svg>\n",
              "      </button>\n",
              "      \n",
              "  <style>\n",
              "    .colab-df-container {\n",
              "      display:flex;\n",
              "      flex-wrap:wrap;\n",
              "      gap: 12px;\n",
              "    }\n",
              "\n",
              "    .colab-df-convert {\n",
              "      background-color: #E8F0FE;\n",
              "      border: none;\n",
              "      border-radius: 50%;\n",
              "      cursor: pointer;\n",
              "      display: none;\n",
              "      fill: #1967D2;\n",
              "      height: 32px;\n",
              "      padding: 0 0 0 0;\n",
              "      width: 32px;\n",
              "    }\n",
              "\n",
              "    .colab-df-convert:hover {\n",
              "      background-color: #E2EBFA;\n",
              "      box-shadow: 0px 1px 2px rgba(60, 64, 67, 0.3), 0px 1px 3px 1px rgba(60, 64, 67, 0.15);\n",
              "      fill: #174EA6;\n",
              "    }\n",
              "\n",
              "    [theme=dark] .colab-df-convert {\n",
              "      background-color: #3B4455;\n",
              "      fill: #D2E3FC;\n",
              "    }\n",
              "\n",
              "    [theme=dark] .colab-df-convert:hover {\n",
              "      background-color: #434B5C;\n",
              "      box-shadow: 0px 1px 3px 1px rgba(0, 0, 0, 0.15);\n",
              "      filter: drop-shadow(0px 1px 2px rgba(0, 0, 0, 0.3));\n",
              "      fill: #FFFFFF;\n",
              "    }\n",
              "  </style>\n",
              "\n",
              "      <script>\n",
              "        const buttonEl =\n",
              "          document.querySelector('#df-e281ab53-a4b5-4ac3-a296-0bcf2887d44d button.colab-df-convert');\n",
              "        buttonEl.style.display =\n",
              "          google.colab.kernel.accessAllowed ? 'block' : 'none';\n",
              "\n",
              "        async function convertToInteractive(key) {\n",
              "          const element = document.querySelector('#df-e281ab53-a4b5-4ac3-a296-0bcf2887d44d');\n",
              "          const dataTable =\n",
              "            await google.colab.kernel.invokeFunction('convertToInteractive',\n",
              "                                                     [key], {});\n",
              "          if (!dataTable) return;\n",
              "\n",
              "          const docLinkHtml = 'Like what you see? Visit the ' +\n",
              "            '<a target=\"_blank\" href=https://colab.research.google.com/notebooks/data_table.ipynb>data table notebook</a>'\n",
              "            + ' to learn more about interactive tables.';\n",
              "          element.innerHTML = '';\n",
              "          dataTable['output_type'] = 'display_data';\n",
              "          await google.colab.output.renderOutput(dataTable, element);\n",
              "          const docLink = document.createElement('div');\n",
              "          docLink.innerHTML = docLinkHtml;\n",
              "          element.appendChild(docLink);\n",
              "        }\n",
              "      </script>\n",
              "    </div>\n",
              "  </div>\n",
              "  "
            ]
          },
          "metadata": {}
        }
      ]
    },
    {
      "cell_type": "markdown",
      "source": [
        "# Generating Manifestos"
      ],
      "metadata": {
        "id": "EZEqydnJLFE2"
      }
    },
    {
      "cell_type": "code",
      "source": [
        "!mkdir -p data\n",
        "!mkdir -p data/dicom_s5cmd data/dicom_gsutil data/dicom_gstorage"
      ],
      "metadata": {
        "id": "ZQHZvORVLIut"
      },
      "execution_count": 8,
      "outputs": []
    },
    {
      "cell_type": "code",
      "source": [
        "gs_file_path = \"data/gcs_paths.txt\"\n",
        "\n",
        "download_df[\"gcs_url\"].to_csv(gs_file_path, header = False, index = False)"
      ],
      "metadata": {
        "id": "PbpQu9e0LIxT"
      },
      "execution_count": 9,
      "outputs": []
    },
    {
      "cell_type": "code",
      "source": [
        "download_path = \"data/dicom_s5cmd/\"\n",
        "\n",
        "s5cmd_gs_file_path = \"data/gcs_url_s5cmd.txt\"\n",
        "\n",
        "gcsurl_temp = \"cp \" + download_df[\"gcs_url\"].str.replace(\"gs://\",\"s3://\") + \" \" + download_path\n",
        "gcsurl_temp.to_csv(s5cmd_gs_file_path, header=False, index=False)"
      ],
      "metadata": {
        "id": "7-FqM6YQMH5_"
      },
      "execution_count": 10,
      "outputs": []
    },
    {
      "cell_type": "markdown",
      "source": [
        "# Benchmarking"
      ],
      "metadata": {
        "id": "nhyDJvLRK7u1"
      }
    },
    {
      "cell_type": "code",
      "source": [
        "elapsed = dict()"
      ],
      "metadata": {
        "id": "fPiNfnx_PawI"
      },
      "execution_count": 11,
      "outputs": []
    },
    {
      "cell_type": "markdown",
      "source": [
        "## gsutil"
      ],
      "metadata": {
        "id": "XYi0HaB1Pold"
      }
    },
    {
      "cell_type": "code",
      "source": [
        "%%capture\n",
        "\n",
        "start = time.time()\n",
        "\n",
        "!cat data/gcs_paths.txt | gsutil -m cp -Ir data/dicom_gsutil\n",
        "\n",
        "end = time.time()\n",
        "elapsed[\"gsutil\"] = end - start"
      ],
      "metadata": {
        "id": "dt8hpUWFPorV"
      },
      "execution_count": 12,
      "outputs": []
    },
    {
      "cell_type": "code",
      "source": [
        "!ls data/dicom_gsutil | wc -l"
      ],
      "metadata": {
        "colab": {
          "base_uri": "https://localhost:8080/"
        },
        "id": "buka74-CU4Ho",
        "outputId": "6ff93f3d-ae12-4ee3-b548-d294120191d0"
      },
      "execution_count": 13,
      "outputs": [
        {
          "output_type": "stream",
          "name": "stdout",
          "text": [
            "100\n"
          ]
        }
      ]
    },
    {
      "cell_type": "markdown",
      "source": [
        "## gcloud storage cp"
      ],
      "metadata": {
        "id": "_vFrXupkPefb"
      }
    },
    {
      "cell_type": "code",
      "source": [
        "%%capture\n",
        "\n",
        "start = time.time()\n",
        "\n",
        "!cat data/gcs_paths.txt | gcloud storage cp --read-paths-from-stdin data/dicom_gstorage\n",
        "\n",
        "end = time.time()\n",
        "elapsed[\"gstorage\"] = end - start"
      ],
      "metadata": {
        "id": "eYeHdxHFNlMh"
      },
      "execution_count": 14,
      "outputs": []
    },
    {
      "cell_type": "code",
      "source": [
        "!ls data/dicom_gstorage | wc -l"
      ],
      "metadata": {
        "colab": {
          "base_uri": "https://localhost:8080/"
        },
        "id": "DCFu5nRLU2IK",
        "outputId": "80dc94ff-401b-4fea-b7a6-ddc8e1f05f28"
      },
      "execution_count": 15,
      "outputs": [
        {
          "output_type": "stream",
          "name": "stdout",
          "text": [
            "100\n"
          ]
        }
      ]
    },
    {
      "cell_type": "markdown",
      "source": [
        "## s5cmd"
      ],
      "metadata": {
        "id": "H7Go8iDzPmmx"
      }
    },
    {
      "cell_type": "code",
      "source": [
        "%%capture\n",
        "\n",
        "!wget https://github.com/peak/s5cmd/releases/download/v2.0.0/s5cmd_2.0.0_Linux-64bit.tar.gz\n",
        "!mkdir -p s5cmd && tar zxf s5cmd_2.0.0_Linux-64bit.tar.gz -C s5cmd\n",
        "!cp s5cmd/s5cmd /usr/bin && rm s5cmd_2.0.0_Linux-64bit.tar.gz"
      ],
      "metadata": {
        "id": "R8jX9ByLUrXX"
      },
      "execution_count": 16,
      "outputs": []
    },
    {
      "cell_type": "code",
      "source": [
        "%%capture\n",
        "\n",
        "start = time.time()\n",
        "\n",
        "!s5cmd --no-sign-request --endpoint-url https://storage.googleapis.com run data/gcs_url_s5cmd.txt\n",
        "\n",
        "end = time.time()\n",
        "elapsed[\"s5cmd\"] = end - start"
      ],
      "metadata": {
        "id": "2NFvJ1DRKmf8"
      },
      "execution_count": 17,
      "outputs": []
    },
    {
      "cell_type": "code",
      "source": [
        "!ls data/dicom_s5cmd | wc -l"
      ],
      "metadata": {
        "colab": {
          "base_uri": "https://localhost:8080/"
        },
        "id": "3bPT23-8U0P5",
        "outputId": "93ab50d9-bed3-4183-9baa-d1766c4ed1b1"
      },
      "execution_count": 18,
      "outputs": [
        {
          "output_type": "stream",
          "name": "stdout",
          "text": [
            "100\n"
          ]
        }
      ]
    },
    {
      "cell_type": "markdown",
      "source": [
        "# Results"
      ],
      "metadata": {
        "id": "x3DkjKTjQp4t"
      }
    },
    {
      "cell_type": "code",
      "source": [
        "elapsed"
      ],
      "metadata": {
        "colab": {
          "base_uri": "https://localhost:8080/"
        },
        "id": "M_QxxmrbNCBx",
        "outputId": "89497032-f05b-4fee-d6a5-802de6e00b41"
      },
      "execution_count": 19,
      "outputs": [
        {
          "output_type": "execute_result",
          "data": {
            "text/plain": [
              "{'gsutil': 7.849622011184692,\n",
              " 'gstorage': 11.461995840072632,\n",
              " 's5cmd': 0.7159948348999023}"
            ]
          },
          "metadata": {},
          "execution_count": 19
        }
      ]
    }
  ]
}