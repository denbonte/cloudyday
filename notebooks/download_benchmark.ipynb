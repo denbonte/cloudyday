{
  "nbformat": 4,
  "nbformat_minor": 0,
  "metadata": {
    "colab": {
      "provenance": [],
      "authorship_tag": "ABX9TyN0KNDCKJoHsTkjsevg4m1j",
      "include_colab_link": true
    },
    "kernelspec": {
      "name": "python3",
      "display_name": "Python 3"
    },
    "language_info": {
      "name": "python"
    },
    "widgets": {
      "application/vnd.jupyter.widget-state+json": {
        "d742542703ed4662a6372ee86d235645": {
          "model_module": "@jupyter-widgets/controls",
          "model_name": "HBoxModel",
          "model_module_version": "1.5.0",
          "state": {
            "_dom_classes": [],
            "_model_module": "@jupyter-widgets/controls",
            "_model_module_version": "1.5.0",
            "_model_name": "HBoxModel",
            "_view_count": null,
            "_view_module": "@jupyter-widgets/controls",
            "_view_module_version": "1.5.0",
            "_view_name": "HBoxView",
            "box_style": "",
            "children": [
              "IPY_MODEL_7683dd9863ab49739aaadd3ca34439fc",
              "IPY_MODEL_0527283db07643f780361fc5f955e219",
              "IPY_MODEL_549a41e6749e4a4298cb6323714a0649"
            ],
            "layout": "IPY_MODEL_5fb06edb4f1546299827d0683abcfb3c"
          }
        },
        "7683dd9863ab49739aaadd3ca34439fc": {
          "model_module": "@jupyter-widgets/controls",
          "model_name": "HTMLModel",
          "model_module_version": "1.5.0",
          "state": {
            "_dom_classes": [],
            "_model_module": "@jupyter-widgets/controls",
            "_model_module_version": "1.5.0",
            "_model_name": "HTMLModel",
            "_view_count": null,
            "_view_module": "@jupyter-widgets/controls",
            "_view_module_version": "1.5.0",
            "_view_name": "HTMLView",
            "description": "",
            "description_tooltip": null,
            "layout": "IPY_MODEL_4d98aa02f41b410eb037c059b7d258f8",
            "placeholder": "​",
            "style": "IPY_MODEL_fd09d4dae0774b69b4a0279126fd7b53",
            "value": "Job ID 0edf36a8-d105-46b4-9b32-08907edaca2c successfully executed: 100%"
          }
        },
        "0527283db07643f780361fc5f955e219": {
          "model_module": "@jupyter-widgets/controls",
          "model_name": "FloatProgressModel",
          "model_module_version": "1.5.0",
          "state": {
            "_dom_classes": [],
            "_model_module": "@jupyter-widgets/controls",
            "_model_module_version": "1.5.0",
            "_model_name": "FloatProgressModel",
            "_view_count": null,
            "_view_module": "@jupyter-widgets/controls",
            "_view_module_version": "1.5.0",
            "_view_name": "ProgressView",
            "bar_style": "success",
            "description": "",
            "description_tooltip": null,
            "layout": "IPY_MODEL_80fcba30c99347e8a28e4815b6dff3f9",
            "max": 1,
            "min": 0,
            "orientation": "horizontal",
            "style": "IPY_MODEL_172f16e935244b18b436a34ebc3caa8f",
            "value": 1
          }
        },
        "549a41e6749e4a4298cb6323714a0649": {
          "model_module": "@jupyter-widgets/controls",
          "model_name": "HTMLModel",
          "model_module_version": "1.5.0",
          "state": {
            "_dom_classes": [],
            "_model_module": "@jupyter-widgets/controls",
            "_model_module_version": "1.5.0",
            "_model_name": "HTMLModel",
            "_view_count": null,
            "_view_module": "@jupyter-widgets/controls",
            "_view_module_version": "1.5.0",
            "_view_name": "HTMLView",
            "description": "",
            "description_tooltip": null,
            "layout": "IPY_MODEL_172fc79940944a4682e29473bee54147",
            "placeholder": "​",
            "style": "IPY_MODEL_9466d6fb3c0f42d5a9221fb1d5af4243",
            "value": ""
          }
        },
        "5fb06edb4f1546299827d0683abcfb3c": {
          "model_module": "@jupyter-widgets/base",
          "model_name": "LayoutModel",
          "model_module_version": "1.2.0",
          "state": {
            "_model_module": "@jupyter-widgets/base",
            "_model_module_version": "1.2.0",
            "_model_name": "LayoutModel",
            "_view_count": null,
            "_view_module": "@jupyter-widgets/base",
            "_view_module_version": "1.2.0",
            "_view_name": "LayoutView",
            "align_content": null,
            "align_items": null,
            "align_self": null,
            "border": null,
            "bottom": null,
            "display": null,
            "flex": null,
            "flex_flow": null,
            "grid_area": null,
            "grid_auto_columns": null,
            "grid_auto_flow": null,
            "grid_auto_rows": null,
            "grid_column": null,
            "grid_gap": null,
            "grid_row": null,
            "grid_template_areas": null,
            "grid_template_columns": null,
            "grid_template_rows": null,
            "height": null,
            "justify_content": null,
            "justify_items": null,
            "left": null,
            "margin": null,
            "max_height": null,
            "max_width": null,
            "min_height": null,
            "min_width": null,
            "object_fit": null,
            "object_position": null,
            "order": null,
            "overflow": null,
            "overflow_x": null,
            "overflow_y": null,
            "padding": null,
            "right": null,
            "top": null,
            "visibility": null,
            "width": null
          }
        },
        "4d98aa02f41b410eb037c059b7d258f8": {
          "model_module": "@jupyter-widgets/base",
          "model_name": "LayoutModel",
          "model_module_version": "1.2.0",
          "state": {
            "_model_module": "@jupyter-widgets/base",
            "_model_module_version": "1.2.0",
            "_model_name": "LayoutModel",
            "_view_count": null,
            "_view_module": "@jupyter-widgets/base",
            "_view_module_version": "1.2.0",
            "_view_name": "LayoutView",
            "align_content": null,
            "align_items": null,
            "align_self": null,
            "border": null,
            "bottom": null,
            "display": null,
            "flex": null,
            "flex_flow": null,
            "grid_area": null,
            "grid_auto_columns": null,
            "grid_auto_flow": null,
            "grid_auto_rows": null,
            "grid_column": null,
            "grid_gap": null,
            "grid_row": null,
            "grid_template_areas": null,
            "grid_template_columns": null,
            "grid_template_rows": null,
            "height": null,
            "justify_content": null,
            "justify_items": null,
            "left": null,
            "margin": null,
            "max_height": null,
            "max_width": null,
            "min_height": null,
            "min_width": null,
            "object_fit": null,
            "object_position": null,
            "order": null,
            "overflow": null,
            "overflow_x": null,
            "overflow_y": null,
            "padding": null,
            "right": null,
            "top": null,
            "visibility": null,
            "width": null
          }
        },
        "fd09d4dae0774b69b4a0279126fd7b53": {
          "model_module": "@jupyter-widgets/controls",
          "model_name": "DescriptionStyleModel",
          "model_module_version": "1.5.0",
          "state": {
            "_model_module": "@jupyter-widgets/controls",
            "_model_module_version": "1.5.0",
            "_model_name": "DescriptionStyleModel",
            "_view_count": null,
            "_view_module": "@jupyter-widgets/base",
            "_view_module_version": "1.2.0",
            "_view_name": "StyleView",
            "description_width": ""
          }
        },
        "80fcba30c99347e8a28e4815b6dff3f9": {
          "model_module": "@jupyter-widgets/base",
          "model_name": "LayoutModel",
          "model_module_version": "1.2.0",
          "state": {
            "_model_module": "@jupyter-widgets/base",
            "_model_module_version": "1.2.0",
            "_model_name": "LayoutModel",
            "_view_count": null,
            "_view_module": "@jupyter-widgets/base",
            "_view_module_version": "1.2.0",
            "_view_name": "LayoutView",
            "align_content": null,
            "align_items": null,
            "align_self": null,
            "border": null,
            "bottom": null,
            "display": null,
            "flex": null,
            "flex_flow": null,
            "grid_area": null,
            "grid_auto_columns": null,
            "grid_auto_flow": null,
            "grid_auto_rows": null,
            "grid_column": null,
            "grid_gap": null,
            "grid_row": null,
            "grid_template_areas": null,
            "grid_template_columns": null,
            "grid_template_rows": null,
            "height": null,
            "justify_content": null,
            "justify_items": null,
            "left": null,
            "margin": null,
            "max_height": null,
            "max_width": null,
            "min_height": null,
            "min_width": null,
            "object_fit": null,
            "object_position": null,
            "order": null,
            "overflow": null,
            "overflow_x": null,
            "overflow_y": null,
            "padding": null,
            "right": null,
            "top": null,
            "visibility": null,
            "width": null
          }
        },
        "172f16e935244b18b436a34ebc3caa8f": {
          "model_module": "@jupyter-widgets/controls",
          "model_name": "ProgressStyleModel",
          "model_module_version": "1.5.0",
          "state": {
            "_model_module": "@jupyter-widgets/controls",
            "_model_module_version": "1.5.0",
            "_model_name": "ProgressStyleModel",
            "_view_count": null,
            "_view_module": "@jupyter-widgets/base",
            "_view_module_version": "1.2.0",
            "_view_name": "StyleView",
            "bar_color": null,
            "description_width": ""
          }
        },
        "172fc79940944a4682e29473bee54147": {
          "model_module": "@jupyter-widgets/base",
          "model_name": "LayoutModel",
          "model_module_version": "1.2.0",
          "state": {
            "_model_module": "@jupyter-widgets/base",
            "_model_module_version": "1.2.0",
            "_model_name": "LayoutModel",
            "_view_count": null,
            "_view_module": "@jupyter-widgets/base",
            "_view_module_version": "1.2.0",
            "_view_name": "LayoutView",
            "align_content": null,
            "align_items": null,
            "align_self": null,
            "border": null,
            "bottom": null,
            "display": null,
            "flex": null,
            "flex_flow": null,
            "grid_area": null,
            "grid_auto_columns": null,
            "grid_auto_flow": null,
            "grid_auto_rows": null,
            "grid_column": null,
            "grid_gap": null,
            "grid_row": null,
            "grid_template_areas": null,
            "grid_template_columns": null,
            "grid_template_rows": null,
            "height": null,
            "justify_content": null,
            "justify_items": null,
            "left": null,
            "margin": null,
            "max_height": null,
            "max_width": null,
            "min_height": null,
            "min_width": null,
            "object_fit": null,
            "object_position": null,
            "order": null,
            "overflow": null,
            "overflow_x": null,
            "overflow_y": null,
            "padding": null,
            "right": null,
            "top": null,
            "visibility": null,
            "width": null
          }
        },
        "9466d6fb3c0f42d5a9221fb1d5af4243": {
          "model_module": "@jupyter-widgets/controls",
          "model_name": "DescriptionStyleModel",
          "model_module_version": "1.5.0",
          "state": {
            "_model_module": "@jupyter-widgets/controls",
            "_model_module_version": "1.5.0",
            "_model_name": "DescriptionStyleModel",
            "_view_count": null,
            "_view_module": "@jupyter-widgets/base",
            "_view_module_version": "1.2.0",
            "_view_name": "StyleView",
            "description_width": ""
          }
        },
        "73847e12a58a432486130262b1d86d5f": {
          "model_module": "@jupyter-widgets/controls",
          "model_name": "HBoxModel",
          "model_module_version": "1.5.0",
          "state": {
            "_dom_classes": [],
            "_model_module": "@jupyter-widgets/controls",
            "_model_module_version": "1.5.0",
            "_model_name": "HBoxModel",
            "_view_count": null,
            "_view_module": "@jupyter-widgets/controls",
            "_view_module_version": "1.5.0",
            "_view_name": "HBoxView",
            "box_style": "",
            "children": [
              "IPY_MODEL_b3981650626e4432be52abbbfdd4eb3f",
              "IPY_MODEL_ba13503672814641aaf49752b8cf83f1",
              "IPY_MODEL_1efe0104fbbb497d8023aa6e7cfd3992"
            ],
            "layout": "IPY_MODEL_891f50deaccd4a1c8cf75ea2a369d2bd"
          }
        },
        "b3981650626e4432be52abbbfdd4eb3f": {
          "model_module": "@jupyter-widgets/controls",
          "model_name": "HTMLModel",
          "model_module_version": "1.5.0",
          "state": {
            "_dom_classes": [],
            "_model_module": "@jupyter-widgets/controls",
            "_model_module_version": "1.5.0",
            "_model_name": "HTMLModel",
            "_view_count": null,
            "_view_module": "@jupyter-widgets/controls",
            "_view_module_version": "1.5.0",
            "_view_name": "HTMLView",
            "description": "",
            "description_tooltip": null,
            "layout": "IPY_MODEL_c523351681f0441291cfe9d41f0552a8",
            "placeholder": "​",
            "style": "IPY_MODEL_18c9530b42bb4e7e99e92a4c20cdabf7",
            "value": "Downloading: 100%"
          }
        },
        "ba13503672814641aaf49752b8cf83f1": {
          "model_module": "@jupyter-widgets/controls",
          "model_name": "FloatProgressModel",
          "model_module_version": "1.5.0",
          "state": {
            "_dom_classes": [],
            "_model_module": "@jupyter-widgets/controls",
            "_model_module_version": "1.5.0",
            "_model_name": "FloatProgressModel",
            "_view_count": null,
            "_view_module": "@jupyter-widgets/controls",
            "_view_module_version": "1.5.0",
            "_view_name": "ProgressView",
            "bar_style": "success",
            "description": "",
            "description_tooltip": null,
            "layout": "IPY_MODEL_57518afd850443b8b994fa6fcbaef797",
            "max": 51230,
            "min": 0,
            "orientation": "horizontal",
            "style": "IPY_MODEL_a6a15369857a4b8eb10b75ec7bd5ac9b",
            "value": 51230
          }
        },
        "1efe0104fbbb497d8023aa6e7cfd3992": {
          "model_module": "@jupyter-widgets/controls",
          "model_name": "HTMLModel",
          "model_module_version": "1.5.0",
          "state": {
            "_dom_classes": [],
            "_model_module": "@jupyter-widgets/controls",
            "_model_module_version": "1.5.0",
            "_model_name": "HTMLModel",
            "_view_count": null,
            "_view_module": "@jupyter-widgets/controls",
            "_view_module_version": "1.5.0",
            "_view_name": "HTMLView",
            "description": "",
            "description_tooltip": null,
            "layout": "IPY_MODEL_edf0d4430da343c8bfd5d18bc1bfab0e",
            "placeholder": "​",
            "style": "IPY_MODEL_1c5bbbd9fbd644beb8671d8d9048dd7d",
            "value": ""
          }
        },
        "891f50deaccd4a1c8cf75ea2a369d2bd": {
          "model_module": "@jupyter-widgets/base",
          "model_name": "LayoutModel",
          "model_module_version": "1.2.0",
          "state": {
            "_model_module": "@jupyter-widgets/base",
            "_model_module_version": "1.2.0",
            "_model_name": "LayoutModel",
            "_view_count": null,
            "_view_module": "@jupyter-widgets/base",
            "_view_module_version": "1.2.0",
            "_view_name": "LayoutView",
            "align_content": null,
            "align_items": null,
            "align_self": null,
            "border": null,
            "bottom": null,
            "display": null,
            "flex": null,
            "flex_flow": null,
            "grid_area": null,
            "grid_auto_columns": null,
            "grid_auto_flow": null,
            "grid_auto_rows": null,
            "grid_column": null,
            "grid_gap": null,
            "grid_row": null,
            "grid_template_areas": null,
            "grid_template_columns": null,
            "grid_template_rows": null,
            "height": null,
            "justify_content": null,
            "justify_items": null,
            "left": null,
            "margin": null,
            "max_height": null,
            "max_width": null,
            "min_height": null,
            "min_width": null,
            "object_fit": null,
            "object_position": null,
            "order": null,
            "overflow": null,
            "overflow_x": null,
            "overflow_y": null,
            "padding": null,
            "right": null,
            "top": null,
            "visibility": null,
            "width": null
          }
        },
        "c523351681f0441291cfe9d41f0552a8": {
          "model_module": "@jupyter-widgets/base",
          "model_name": "LayoutModel",
          "model_module_version": "1.2.0",
          "state": {
            "_model_module": "@jupyter-widgets/base",
            "_model_module_version": "1.2.0",
            "_model_name": "LayoutModel",
            "_view_count": null,
            "_view_module": "@jupyter-widgets/base",
            "_view_module_version": "1.2.0",
            "_view_name": "LayoutView",
            "align_content": null,
            "align_items": null,
            "align_self": null,
            "border": null,
            "bottom": null,
            "display": null,
            "flex": null,
            "flex_flow": null,
            "grid_area": null,
            "grid_auto_columns": null,
            "grid_auto_flow": null,
            "grid_auto_rows": null,
            "grid_column": null,
            "grid_gap": null,
            "grid_row": null,
            "grid_template_areas": null,
            "grid_template_columns": null,
            "grid_template_rows": null,
            "height": null,
            "justify_content": null,
            "justify_items": null,
            "left": null,
            "margin": null,
            "max_height": null,
            "max_width": null,
            "min_height": null,
            "min_width": null,
            "object_fit": null,
            "object_position": null,
            "order": null,
            "overflow": null,
            "overflow_x": null,
            "overflow_y": null,
            "padding": null,
            "right": null,
            "top": null,
            "visibility": null,
            "width": null
          }
        },
        "18c9530b42bb4e7e99e92a4c20cdabf7": {
          "model_module": "@jupyter-widgets/controls",
          "model_name": "DescriptionStyleModel",
          "model_module_version": "1.5.0",
          "state": {
            "_model_module": "@jupyter-widgets/controls",
            "_model_module_version": "1.5.0",
            "_model_name": "DescriptionStyleModel",
            "_view_count": null,
            "_view_module": "@jupyter-widgets/base",
            "_view_module_version": "1.2.0",
            "_view_name": "StyleView",
            "description_width": ""
          }
        },
        "57518afd850443b8b994fa6fcbaef797": {
          "model_module": "@jupyter-widgets/base",
          "model_name": "LayoutModel",
          "model_module_version": "1.2.0",
          "state": {
            "_model_module": "@jupyter-widgets/base",
            "_model_module_version": "1.2.0",
            "_model_name": "LayoutModel",
            "_view_count": null,
            "_view_module": "@jupyter-widgets/base",
            "_view_module_version": "1.2.0",
            "_view_name": "LayoutView",
            "align_content": null,
            "align_items": null,
            "align_self": null,
            "border": null,
            "bottom": null,
            "display": null,
            "flex": null,
            "flex_flow": null,
            "grid_area": null,
            "grid_auto_columns": null,
            "grid_auto_flow": null,
            "grid_auto_rows": null,
            "grid_column": null,
            "grid_gap": null,
            "grid_row": null,
            "grid_template_areas": null,
            "grid_template_columns": null,
            "grid_template_rows": null,
            "height": null,
            "justify_content": null,
            "justify_items": null,
            "left": null,
            "margin": null,
            "max_height": null,
            "max_width": null,
            "min_height": null,
            "min_width": null,
            "object_fit": null,
            "object_position": null,
            "order": null,
            "overflow": null,
            "overflow_x": null,
            "overflow_y": null,
            "padding": null,
            "right": null,
            "top": null,
            "visibility": null,
            "width": null
          }
        },
        "a6a15369857a4b8eb10b75ec7bd5ac9b": {
          "model_module": "@jupyter-widgets/controls",
          "model_name": "ProgressStyleModel",
          "model_module_version": "1.5.0",
          "state": {
            "_model_module": "@jupyter-widgets/controls",
            "_model_module_version": "1.5.0",
            "_model_name": "ProgressStyleModel",
            "_view_count": null,
            "_view_module": "@jupyter-widgets/base",
            "_view_module_version": "1.2.0",
            "_view_name": "StyleView",
            "bar_color": null,
            "description_width": ""
          }
        },
        "edf0d4430da343c8bfd5d18bc1bfab0e": {
          "model_module": "@jupyter-widgets/base",
          "model_name": "LayoutModel",
          "model_module_version": "1.2.0",
          "state": {
            "_model_module": "@jupyter-widgets/base",
            "_model_module_version": "1.2.0",
            "_model_name": "LayoutModel",
            "_view_count": null,
            "_view_module": "@jupyter-widgets/base",
            "_view_module_version": "1.2.0",
            "_view_name": "LayoutView",
            "align_content": null,
            "align_items": null,
            "align_self": null,
            "border": null,
            "bottom": null,
            "display": null,
            "flex": null,
            "flex_flow": null,
            "grid_area": null,
            "grid_auto_columns": null,
            "grid_auto_flow": null,
            "grid_auto_rows": null,
            "grid_column": null,
            "grid_gap": null,
            "grid_row": null,
            "grid_template_areas": null,
            "grid_template_columns": null,
            "grid_template_rows": null,
            "height": null,
            "justify_content": null,
            "justify_items": null,
            "left": null,
            "margin": null,
            "max_height": null,
            "max_width": null,
            "min_height": null,
            "min_width": null,
            "object_fit": null,
            "object_position": null,
            "order": null,
            "overflow": null,
            "overflow_x": null,
            "overflow_y": null,
            "padding": null,
            "right": null,
            "top": null,
            "visibility": null,
            "width": null
          }
        },
        "1c5bbbd9fbd644beb8671d8d9048dd7d": {
          "model_module": "@jupyter-widgets/controls",
          "model_name": "DescriptionStyleModel",
          "model_module_version": "1.5.0",
          "state": {
            "_model_module": "@jupyter-widgets/controls",
            "_model_module_version": "1.5.0",
            "_model_name": "DescriptionStyleModel",
            "_view_count": null,
            "_view_module": "@jupyter-widgets/base",
            "_view_module_version": "1.2.0",
            "_view_name": "StyleView",
            "description_width": ""
          }
        }
      }
    }
  },
  "cells": [
    {
      "cell_type": "markdown",
      "metadata": {
        "id": "view-in-github",
        "colab_type": "text"
      },
      "source": [
        "<a href=\"https://colab.research.google.com/github/denbonte/cloudyday/blob/main/notebooks/download_benchmark.ipynb\" target=\"_parent\"><img src=\"https://colab.research.google.com/assets/colab-badge.svg\" alt=\"Open In Colab\"/></a>"
      ]
    },
    {
      "cell_type": "markdown",
      "source": [
        "# Environment Setup"
      ],
      "metadata": {
        "id": "-uEui8vkK4e2"
      }
    },
    {
      "cell_type": "code",
      "execution_count": null,
      "metadata": {
        "id": "Kg6xrmLaJkxw"
      },
      "outputs": [],
      "source": [
        "from google.colab import auth\n",
        "auth.authenticate_user()"
      ]
    },
    {
      "cell_type": "code",
      "source": [
        "import os\n",
        "\n",
        "import time\n",
        "import pandas as pd"
      ],
      "metadata": {
        "id": "oefZuKuyNL5B"
      },
      "execution_count": null,
      "outputs": []
    },
    {
      "cell_type": "markdown",
      "source": [
        "Note: to run the benchmarks, change this to your project ID."
      ],
      "metadata": {
        "id": "sMSaKzBLDcJb"
      }
    },
    {
      "cell_type": "code",
      "source": [
        "my_ProjectID=\"idc-sandbox-000\""
      ],
      "metadata": {
        "id": "qPkzTI3PKBPK"
      },
      "execution_count": null,
      "outputs": []
    },
    {
      "cell_type": "markdown",
      "source": [
        "Pull and install `s5cmd` v2.0.0 from their GitHub release page."
      ],
      "metadata": {
        "id": "1zqW5GegDhEb"
      }
    },
    {
      "cell_type": "code",
      "source": [
        "%%capture\n",
        "\n",
        "!wget https://github.com/peak/s5cmd/releases/download/v2.0.0/s5cmd_2.0.0_Linux-64bit.tar.gz\n",
        "!mkdir -p s5cmd && tar zxf s5cmd_2.0.0_Linux-64bit.tar.gz -C s5cmd\n",
        "!cp s5cmd/s5cmd /usr/bin && rm s5cmd_2.0.0_Linux-64bit.tar.gz"
      ],
      "metadata": {
        "id": "R8jX9ByLUrXX"
      },
      "execution_count": null,
      "outputs": []
    },
    {
      "cell_type": "markdown",
      "source": [
        "For benchmarking purposes, we are going to prepare a manifesto for cross-loading DICOM data from the Imaging Data Commons Google Storage buckets. For the sake of example, we are going to pull data from the `nsclc_radiomics`."
      ],
      "metadata": {
        "id": "Bw8Am1PBDnW7"
      }
    },
    {
      "cell_type": "code",
      "source": [
        "%%bigquery cohort_df --project=$my_ProjectID\n",
        "\n",
        "SELECT\n",
        "  PatientID,\n",
        "  StudyInstanceUID,\n",
        "  SeriesInstanceUID,\n",
        "  SOPInstanceUID,\n",
        "  gcs_url\n",
        "FROM\n",
        "  `bigquery-public-data.idc_current.dicom_all`\n",
        "WHERE\n",
        "  collection_id = \"nsclc_radiomics\"\n",
        "  AND Modality = \"CT\"\n",
        "ORDER BY\n",
        "  PatientID"
      ],
      "metadata": {
        "colab": {
          "base_uri": "https://localhost:8080/",
          "height": 81,
          "referenced_widgets": [
            "d742542703ed4662a6372ee86d235645",
            "7683dd9863ab49739aaadd3ca34439fc",
            "0527283db07643f780361fc5f955e219",
            "549a41e6749e4a4298cb6323714a0649",
            "5fb06edb4f1546299827d0683abcfb3c",
            "4d98aa02f41b410eb037c059b7d258f8",
            "fd09d4dae0774b69b4a0279126fd7b53",
            "80fcba30c99347e8a28e4815b6dff3f9",
            "172f16e935244b18b436a34ebc3caa8f",
            "172fc79940944a4682e29473bee54147",
            "9466d6fb3c0f42d5a9221fb1d5af4243",
            "73847e12a58a432486130262b1d86d5f",
            "b3981650626e4432be52abbbfdd4eb3f",
            "ba13503672814641aaf49752b8cf83f1",
            "1efe0104fbbb497d8023aa6e7cfd3992",
            "891f50deaccd4a1c8cf75ea2a369d2bd",
            "c523351681f0441291cfe9d41f0552a8",
            "18c9530b42bb4e7e99e92a4c20cdabf7",
            "57518afd850443b8b994fa6fcbaef797",
            "a6a15369857a4b8eb10b75ec7bd5ac9b",
            "edf0d4430da343c8bfd5d18bc1bfab0e",
            "1c5bbbd9fbd644beb8671d8d9048dd7d"
          ]
        },
        "id": "1uGH9RpIJvSi",
        "outputId": "793170ca-662c-489a-95c2-a155570e62dc"
      },
      "execution_count": null,
      "outputs": [
        {
          "output_type": "display_data",
          "data": {
            "text/plain": [
              "Query is running:   0%|          |"
            ],
            "application/vnd.jupyter.widget-view+json": {
              "version_major": 2,
              "version_minor": 0,
              "model_id": "d742542703ed4662a6372ee86d235645"
            }
          },
          "metadata": {}
        },
        {
          "output_type": "display_data",
          "data": {
            "text/plain": [
              "Downloading:   0%|          |"
            ],
            "application/vnd.jupyter.widget-view+json": {
              "version_major": 2,
              "version_minor": 0,
              "model_id": "73847e12a58a432486130262b1d86d5f"
            }
          },
          "metadata": {}
        }
      ]
    },
    {
      "cell_type": "code",
      "source": [
        "display(cohort_df.info())\n",
        "display(cohort_df.head())"
      ],
      "metadata": {
        "colab": {
          "base_uri": "https://localhost:8080/",
          "height": 918
        },
        "id": "2nexoMQyJvUs",
        "outputId": "1ebc68d1-dbd1-4b62-98c0-d7b9b9988d00"
      },
      "execution_count": null,
      "outputs": [
        {
          "output_type": "stream",
          "name": "stdout",
          "text": [
            "<class 'pandas.core.frame.DataFrame'>\n",
            "RangeIndex: 51230 entries, 0 to 51229\n",
            "Data columns (total 5 columns):\n",
            " #   Column             Non-Null Count  Dtype \n",
            "---  ------             --------------  ----- \n",
            " 0   PatientID          51230 non-null  object\n",
            " 1   StudyInstanceUID   51230 non-null  object\n",
            " 2   SeriesInstanceUID  51230 non-null  object\n",
            " 3   SOPInstanceUID     51230 non-null  object\n",
            " 4   gcs_url            51230 non-null  object\n",
            "dtypes: object(5)\n",
            "memory usage: 2.0+ MB\n"
          ]
        },
        {
          "output_type": "display_data",
          "data": {
            "text/plain": [
              "None"
            ]
          },
          "metadata": {}
        },
        {
          "output_type": "display_data",
          "data": {
            "text/plain": [
              "   PatientID                                   StudyInstanceUID  \\\n",
              "0  LUNG1-001  1.3.6.1.4.1.32722.99.99.2393413539117143687725...   \n",
              "1  LUNG1-001  1.3.6.1.4.1.32722.99.99.2393413539117143687725...   \n",
              "2  LUNG1-001  1.3.6.1.4.1.32722.99.99.2393413539117143687725...   \n",
              "3  LUNG1-001  1.3.6.1.4.1.32722.99.99.2393413539117143687725...   \n",
              "4  LUNG1-001  1.3.6.1.4.1.32722.99.99.2393413539117143687725...   \n",
              "\n",
              "                                   SeriesInstanceUID  \\\n",
              "0  1.3.6.1.4.1.32722.99.99.2989917765213423750108...   \n",
              "1  1.3.6.1.4.1.32722.99.99.2989917765213423750108...   \n",
              "2  1.3.6.1.4.1.32722.99.99.2989917765213423750108...   \n",
              "3  1.3.6.1.4.1.32722.99.99.2989917765213423750108...   \n",
              "4  1.3.6.1.4.1.32722.99.99.2989917765213423750108...   \n",
              "\n",
              "                                      SOPInstanceUID  \\\n",
              "0  1.3.6.1.4.1.32722.99.99.3078801584366390810576...   \n",
              "1  1.3.6.1.4.1.32722.99.99.3107100702111033256711...   \n",
              "2  1.3.6.1.4.1.32722.99.99.1064644568755722921755...   \n",
              "3  1.3.6.1.4.1.32722.99.99.1378828584856047266870...   \n",
              "4  1.3.6.1.4.1.32722.99.99.6917641808288785879158...   \n",
              "\n",
              "                                             gcs_url  \n",
              "0  gs://idc-open-cr/ed62c42c-c261-44c4-a4a5-0bc77...  \n",
              "1  gs://idc-open-cr/23b87c17-76eb-405d-a033-b8f55...  \n",
              "2  gs://idc-open-cr/fdbe15bb-a030-4a8d-b041-b4a73...  \n",
              "3  gs://idc-open-cr/7193a2f1-781a-4017-b92f-56f28...  \n",
              "4  gs://idc-open-cr/ed7c0188-93ed-480b-a8b0-31887...  "
            ],
            "text/html": [
              "\n",
              "  <div id=\"df-e6887d41-a5f6-42f4-87d2-5fff5f04f185\">\n",
              "    <div class=\"colab-df-container\">\n",
              "      <div>\n",
              "<style scoped>\n",
              "    .dataframe tbody tr th:only-of-type {\n",
              "        vertical-align: middle;\n",
              "    }\n",
              "\n",
              "    .dataframe tbody tr th {\n",
              "        vertical-align: top;\n",
              "    }\n",
              "\n",
              "    .dataframe thead th {\n",
              "        text-align: right;\n",
              "    }\n",
              "</style>\n",
              "<table border=\"1\" class=\"dataframe\">\n",
              "  <thead>\n",
              "    <tr style=\"text-align: right;\">\n",
              "      <th></th>\n",
              "      <th>PatientID</th>\n",
              "      <th>StudyInstanceUID</th>\n",
              "      <th>SeriesInstanceUID</th>\n",
              "      <th>SOPInstanceUID</th>\n",
              "      <th>gcs_url</th>\n",
              "    </tr>\n",
              "  </thead>\n",
              "  <tbody>\n",
              "    <tr>\n",
              "      <th>0</th>\n",
              "      <td>LUNG1-001</td>\n",
              "      <td>1.3.6.1.4.1.32722.99.99.2393413539117143687725...</td>\n",
              "      <td>1.3.6.1.4.1.32722.99.99.2989917765213423750108...</td>\n",
              "      <td>1.3.6.1.4.1.32722.99.99.3078801584366390810576...</td>\n",
              "      <td>gs://idc-open-cr/ed62c42c-c261-44c4-a4a5-0bc77...</td>\n",
              "    </tr>\n",
              "    <tr>\n",
              "      <th>1</th>\n",
              "      <td>LUNG1-001</td>\n",
              "      <td>1.3.6.1.4.1.32722.99.99.2393413539117143687725...</td>\n",
              "      <td>1.3.6.1.4.1.32722.99.99.2989917765213423750108...</td>\n",
              "      <td>1.3.6.1.4.1.32722.99.99.3107100702111033256711...</td>\n",
              "      <td>gs://idc-open-cr/23b87c17-76eb-405d-a033-b8f55...</td>\n",
              "    </tr>\n",
              "    <tr>\n",
              "      <th>2</th>\n",
              "      <td>LUNG1-001</td>\n",
              "      <td>1.3.6.1.4.1.32722.99.99.2393413539117143687725...</td>\n",
              "      <td>1.3.6.1.4.1.32722.99.99.2989917765213423750108...</td>\n",
              "      <td>1.3.6.1.4.1.32722.99.99.1064644568755722921755...</td>\n",
              "      <td>gs://idc-open-cr/fdbe15bb-a030-4a8d-b041-b4a73...</td>\n",
              "    </tr>\n",
              "    <tr>\n",
              "      <th>3</th>\n",
              "      <td>LUNG1-001</td>\n",
              "      <td>1.3.6.1.4.1.32722.99.99.2393413539117143687725...</td>\n",
              "      <td>1.3.6.1.4.1.32722.99.99.2989917765213423750108...</td>\n",
              "      <td>1.3.6.1.4.1.32722.99.99.1378828584856047266870...</td>\n",
              "      <td>gs://idc-open-cr/7193a2f1-781a-4017-b92f-56f28...</td>\n",
              "    </tr>\n",
              "    <tr>\n",
              "      <th>4</th>\n",
              "      <td>LUNG1-001</td>\n",
              "      <td>1.3.6.1.4.1.32722.99.99.2393413539117143687725...</td>\n",
              "      <td>1.3.6.1.4.1.32722.99.99.2989917765213423750108...</td>\n",
              "      <td>1.3.6.1.4.1.32722.99.99.6917641808288785879158...</td>\n",
              "      <td>gs://idc-open-cr/ed7c0188-93ed-480b-a8b0-31887...</td>\n",
              "    </tr>\n",
              "  </tbody>\n",
              "</table>\n",
              "</div>\n",
              "      <button class=\"colab-df-convert\" onclick=\"convertToInteractive('df-e6887d41-a5f6-42f4-87d2-5fff5f04f185')\"\n",
              "              title=\"Convert this dataframe to an interactive table.\"\n",
              "              style=\"display:none;\">\n",
              "        \n",
              "  <svg xmlns=\"http://www.w3.org/2000/svg\" height=\"24px\"viewBox=\"0 0 24 24\"\n",
              "       width=\"24px\">\n",
              "    <path d=\"M0 0h24v24H0V0z\" fill=\"none\"/>\n",
              "    <path d=\"M18.56 5.44l.94 2.06.94-2.06 2.06-.94-2.06-.94-.94-2.06-.94 2.06-2.06.94zm-11 1L8.5 8.5l.94-2.06 2.06-.94-2.06-.94L8.5 2.5l-.94 2.06-2.06.94zm10 10l.94 2.06.94-2.06 2.06-.94-2.06-.94-.94-2.06-.94 2.06-2.06.94z\"/><path d=\"M17.41 7.96l-1.37-1.37c-.4-.4-.92-.59-1.43-.59-.52 0-1.04.2-1.43.59L10.3 9.45l-7.72 7.72c-.78.78-.78 2.05 0 2.83L4 21.41c.39.39.9.59 1.41.59.51 0 1.02-.2 1.41-.59l7.78-7.78 2.81-2.81c.8-.78.8-2.07 0-2.86zM5.41 20L4 18.59l7.72-7.72 1.47 1.35L5.41 20z\"/>\n",
              "  </svg>\n",
              "      </button>\n",
              "      \n",
              "  <style>\n",
              "    .colab-df-container {\n",
              "      display:flex;\n",
              "      flex-wrap:wrap;\n",
              "      gap: 12px;\n",
              "    }\n",
              "\n",
              "    .colab-df-convert {\n",
              "      background-color: #E8F0FE;\n",
              "      border: none;\n",
              "      border-radius: 50%;\n",
              "      cursor: pointer;\n",
              "      display: none;\n",
              "      fill: #1967D2;\n",
              "      height: 32px;\n",
              "      padding: 0 0 0 0;\n",
              "      width: 32px;\n",
              "    }\n",
              "\n",
              "    .colab-df-convert:hover {\n",
              "      background-color: #E2EBFA;\n",
              "      box-shadow: 0px 1px 2px rgba(60, 64, 67, 0.3), 0px 1px 3px 1px rgba(60, 64, 67, 0.15);\n",
              "      fill: #174EA6;\n",
              "    }\n",
              "\n",
              "    [theme=dark] .colab-df-convert {\n",
              "      background-color: #3B4455;\n",
              "      fill: #D2E3FC;\n",
              "    }\n",
              "\n",
              "    [theme=dark] .colab-df-convert:hover {\n",
              "      background-color: #434B5C;\n",
              "      box-shadow: 0px 1px 3px 1px rgba(0, 0, 0, 0.15);\n",
              "      filter: drop-shadow(0px 1px 2px rgba(0, 0, 0, 0.3));\n",
              "      fill: #FFFFFF;\n",
              "    }\n",
              "  </style>\n",
              "\n",
              "      <script>\n",
              "        const buttonEl =\n",
              "          document.querySelector('#df-e6887d41-a5f6-42f4-87d2-5fff5f04f185 button.colab-df-convert');\n",
              "        buttonEl.style.display =\n",
              "          google.colab.kernel.accessAllowed ? 'block' : 'none';\n",
              "\n",
              "        async function convertToInteractive(key) {\n",
              "          const element = document.querySelector('#df-e6887d41-a5f6-42f4-87d2-5fff5f04f185');\n",
              "          const dataTable =\n",
              "            await google.colab.kernel.invokeFunction('convertToInteractive',\n",
              "                                                     [key], {});\n",
              "          if (!dataTable) return;\n",
              "\n",
              "          const docLinkHtml = 'Like what you see? Visit the ' +\n",
              "            '<a target=\"_blank\" href=https://colab.research.google.com/notebooks/data_table.ipynb>data table notebook</a>'\n",
              "            + ' to learn more about interactive tables.';\n",
              "          element.innerHTML = '';\n",
              "          dataTable['output_type'] = 'display_data';\n",
              "          await google.colab.output.renderOutput(dataTable, element);\n",
              "          const docLink = document.createElement('div');\n",
              "          docLink.innerHTML = docLinkHtml;\n",
              "          element.appendChild(docLink);\n",
              "        }\n",
              "      </script>\n",
              "    </div>\n",
              "  </div>\n",
              "  "
            ]
          },
          "metadata": {}
        }
      ]
    },
    {
      "cell_type": "markdown",
      "source": [
        "As running `gcloud storage cp` or `gsutil cp` can be incredibly slow (at certain times, more than 200s for 1000 files), limit the number of `.dcm` files we are going to pull to `n_files`."
      ],
      "metadata": {
        "id": "0gDrCMylD-bt"
      }
    },
    {
      "cell_type": "code",
      "source": [
        "n_files = 1000\n",
        "\n",
        "download_df = cohort_df.sample(n=n_files)"
      ],
      "metadata": {
        "id": "q607PmIJLSgR"
      },
      "execution_count": null,
      "outputs": []
    },
    {
      "cell_type": "code",
      "source": [
        "display(download_df.info())\n",
        "display(download_df.head())"
      ],
      "metadata": {
        "colab": {
          "base_uri": "https://localhost:8080/",
          "height": 866
        },
        "id": "L_b71geyLjGO",
        "outputId": "b1bace0c-8162-4b33-d281-f438a6890572"
      },
      "execution_count": null,
      "outputs": [
        {
          "output_type": "stream",
          "name": "stdout",
          "text": [
            "<class 'pandas.core.frame.DataFrame'>\n",
            "Int64Index: 1000 entries, 43878 to 39236\n",
            "Data columns (total 5 columns):\n",
            " #   Column             Non-Null Count  Dtype \n",
            "---  ------             --------------  ----- \n",
            " 0   PatientID          1000 non-null   object\n",
            " 1   StudyInstanceUID   1000 non-null   object\n",
            " 2   SeriesInstanceUID  1000 non-null   object\n",
            " 3   SOPInstanceUID     1000 non-null   object\n",
            " 4   gcs_url            1000 non-null   object\n",
            "dtypes: object(5)\n",
            "memory usage: 46.9+ KB\n"
          ]
        },
        {
          "output_type": "display_data",
          "data": {
            "text/plain": [
              "None"
            ]
          },
          "metadata": {}
        },
        {
          "output_type": "display_data",
          "data": {
            "text/plain": [
              "       PatientID                                   StudyInstanceUID  \\\n",
              "43878  LUNG1-365  1.3.6.1.4.1.32722.99.99.1914110964821482780883...   \n",
              "3001   LUNG1-027  1.3.6.1.4.1.32722.99.99.7675440033341345479533...   \n",
              "2982   LUNG1-027  1.3.6.1.4.1.32722.99.99.7675440033341345479533...   \n",
              "39844  LUNG1-332  1.3.6.1.4.1.32722.99.99.1302349440240646975378...   \n",
              "941    LUNG1-009  1.3.6.1.4.1.32722.99.99.1737446948497249041452...   \n",
              "\n",
              "                                       SeriesInstanceUID  \\\n",
              "43878  1.3.6.1.4.1.32722.99.99.4596440252475098196896...   \n",
              "3001   1.3.6.1.4.1.32722.99.99.2305160426467195519568...   \n",
              "2982   1.3.6.1.4.1.32722.99.99.2305160426467195519568...   \n",
              "39844  1.3.6.1.4.1.32722.99.99.3190617744073962718010...   \n",
              "941    1.3.6.1.4.1.32722.99.99.1491965310436982884554...   \n",
              "\n",
              "                                          SOPInstanceUID  \\\n",
              "43878  1.3.6.1.4.1.32722.99.99.1683121469980282535270...   \n",
              "3001   1.3.6.1.4.1.32722.99.99.1032602163965400546395...   \n",
              "2982   1.3.6.1.4.1.32722.99.99.1721689183162355285739...   \n",
              "39844  1.3.6.1.4.1.32722.99.99.1296061863086161390647...   \n",
              "941    1.3.6.1.4.1.32722.99.99.1395953512723386312280...   \n",
              "\n",
              "                                                 gcs_url  \n",
              "43878  gs://idc-open-cr/d1a5fdd3-b378-4849-af04-d73ff...  \n",
              "3001   gs://idc-open-cr/c4a15b29-13b8-4534-9bb5-32ec5...  \n",
              "2982   gs://idc-open-cr/8ec6ebff-c497-44bb-af48-e6776...  \n",
              "39844  gs://idc-open-cr/9ab49004-da9f-46b1-9427-ac6fd...  \n",
              "941    gs://idc-open-cr/677f1e95-a7f9-4965-8eb7-fc847...  "
            ],
            "text/html": [
              "\n",
              "  <div id=\"df-922598b2-2b59-4456-93cb-bbfa123676e9\">\n",
              "    <div class=\"colab-df-container\">\n",
              "      <div>\n",
              "<style scoped>\n",
              "    .dataframe tbody tr th:only-of-type {\n",
              "        vertical-align: middle;\n",
              "    }\n",
              "\n",
              "    .dataframe tbody tr th {\n",
              "        vertical-align: top;\n",
              "    }\n",
              "\n",
              "    .dataframe thead th {\n",
              "        text-align: right;\n",
              "    }\n",
              "</style>\n",
              "<table border=\"1\" class=\"dataframe\">\n",
              "  <thead>\n",
              "    <tr style=\"text-align: right;\">\n",
              "      <th></th>\n",
              "      <th>PatientID</th>\n",
              "      <th>StudyInstanceUID</th>\n",
              "      <th>SeriesInstanceUID</th>\n",
              "      <th>SOPInstanceUID</th>\n",
              "      <th>gcs_url</th>\n",
              "    </tr>\n",
              "  </thead>\n",
              "  <tbody>\n",
              "    <tr>\n",
              "      <th>43878</th>\n",
              "      <td>LUNG1-365</td>\n",
              "      <td>1.3.6.1.4.1.32722.99.99.1914110964821482780883...</td>\n",
              "      <td>1.3.6.1.4.1.32722.99.99.4596440252475098196896...</td>\n",
              "      <td>1.3.6.1.4.1.32722.99.99.1683121469980282535270...</td>\n",
              "      <td>gs://idc-open-cr/d1a5fdd3-b378-4849-af04-d73ff...</td>\n",
              "    </tr>\n",
              "    <tr>\n",
              "      <th>3001</th>\n",
              "      <td>LUNG1-027</td>\n",
              "      <td>1.3.6.1.4.1.32722.99.99.7675440033341345479533...</td>\n",
              "      <td>1.3.6.1.4.1.32722.99.99.2305160426467195519568...</td>\n",
              "      <td>1.3.6.1.4.1.32722.99.99.1032602163965400546395...</td>\n",
              "      <td>gs://idc-open-cr/c4a15b29-13b8-4534-9bb5-32ec5...</td>\n",
              "    </tr>\n",
              "    <tr>\n",
              "      <th>2982</th>\n",
              "      <td>LUNG1-027</td>\n",
              "      <td>1.3.6.1.4.1.32722.99.99.7675440033341345479533...</td>\n",
              "      <td>1.3.6.1.4.1.32722.99.99.2305160426467195519568...</td>\n",
              "      <td>1.3.6.1.4.1.32722.99.99.1721689183162355285739...</td>\n",
              "      <td>gs://idc-open-cr/8ec6ebff-c497-44bb-af48-e6776...</td>\n",
              "    </tr>\n",
              "    <tr>\n",
              "      <th>39844</th>\n",
              "      <td>LUNG1-332</td>\n",
              "      <td>1.3.6.1.4.1.32722.99.99.1302349440240646975378...</td>\n",
              "      <td>1.3.6.1.4.1.32722.99.99.3190617744073962718010...</td>\n",
              "      <td>1.3.6.1.4.1.32722.99.99.1296061863086161390647...</td>\n",
              "      <td>gs://idc-open-cr/9ab49004-da9f-46b1-9427-ac6fd...</td>\n",
              "    </tr>\n",
              "    <tr>\n",
              "      <th>941</th>\n",
              "      <td>LUNG1-009</td>\n",
              "      <td>1.3.6.1.4.1.32722.99.99.1737446948497249041452...</td>\n",
              "      <td>1.3.6.1.4.1.32722.99.99.1491965310436982884554...</td>\n",
              "      <td>1.3.6.1.4.1.32722.99.99.1395953512723386312280...</td>\n",
              "      <td>gs://idc-open-cr/677f1e95-a7f9-4965-8eb7-fc847...</td>\n",
              "    </tr>\n",
              "  </tbody>\n",
              "</table>\n",
              "</div>\n",
              "      <button class=\"colab-df-convert\" onclick=\"convertToInteractive('df-922598b2-2b59-4456-93cb-bbfa123676e9')\"\n",
              "              title=\"Convert this dataframe to an interactive table.\"\n",
              "              style=\"display:none;\">\n",
              "        \n",
              "  <svg xmlns=\"http://www.w3.org/2000/svg\" height=\"24px\"viewBox=\"0 0 24 24\"\n",
              "       width=\"24px\">\n",
              "    <path d=\"M0 0h24v24H0V0z\" fill=\"none\"/>\n",
              "    <path d=\"M18.56 5.44l.94 2.06.94-2.06 2.06-.94-2.06-.94-.94-2.06-.94 2.06-2.06.94zm-11 1L8.5 8.5l.94-2.06 2.06-.94-2.06-.94L8.5 2.5l-.94 2.06-2.06.94zm10 10l.94 2.06.94-2.06 2.06-.94-2.06-.94-.94-2.06-.94 2.06-2.06.94z\"/><path d=\"M17.41 7.96l-1.37-1.37c-.4-.4-.92-.59-1.43-.59-.52 0-1.04.2-1.43.59L10.3 9.45l-7.72 7.72c-.78.78-.78 2.05 0 2.83L4 21.41c.39.39.9.59 1.41.59.51 0 1.02-.2 1.41-.59l7.78-7.78 2.81-2.81c.8-.78.8-2.07 0-2.86zM5.41 20L4 18.59l7.72-7.72 1.47 1.35L5.41 20z\"/>\n",
              "  </svg>\n",
              "      </button>\n",
              "      \n",
              "  <style>\n",
              "    .colab-df-container {\n",
              "      display:flex;\n",
              "      flex-wrap:wrap;\n",
              "      gap: 12px;\n",
              "    }\n",
              "\n",
              "    .colab-df-convert {\n",
              "      background-color: #E8F0FE;\n",
              "      border: none;\n",
              "      border-radius: 50%;\n",
              "      cursor: pointer;\n",
              "      display: none;\n",
              "      fill: #1967D2;\n",
              "      height: 32px;\n",
              "      padding: 0 0 0 0;\n",
              "      width: 32px;\n",
              "    }\n",
              "\n",
              "    .colab-df-convert:hover {\n",
              "      background-color: #E2EBFA;\n",
              "      box-shadow: 0px 1px 2px rgba(60, 64, 67, 0.3), 0px 1px 3px 1px rgba(60, 64, 67, 0.15);\n",
              "      fill: #174EA6;\n",
              "    }\n",
              "\n",
              "    [theme=dark] .colab-df-convert {\n",
              "      background-color: #3B4455;\n",
              "      fill: #D2E3FC;\n",
              "    }\n",
              "\n",
              "    [theme=dark] .colab-df-convert:hover {\n",
              "      background-color: #434B5C;\n",
              "      box-shadow: 0px 1px 3px 1px rgba(0, 0, 0, 0.15);\n",
              "      filter: drop-shadow(0px 1px 2px rgba(0, 0, 0, 0.3));\n",
              "      fill: #FFFFFF;\n",
              "    }\n",
              "  </style>\n",
              "\n",
              "      <script>\n",
              "        const buttonEl =\n",
              "          document.querySelector('#df-922598b2-2b59-4456-93cb-bbfa123676e9 button.colab-df-convert');\n",
              "        buttonEl.style.display =\n",
              "          google.colab.kernel.accessAllowed ? 'block' : 'none';\n",
              "\n",
              "        async function convertToInteractive(key) {\n",
              "          const element = document.querySelector('#df-922598b2-2b59-4456-93cb-bbfa123676e9');\n",
              "          const dataTable =\n",
              "            await google.colab.kernel.invokeFunction('convertToInteractive',\n",
              "                                                     [key], {});\n",
              "          if (!dataTable) return;\n",
              "\n",
              "          const docLinkHtml = 'Like what you see? Visit the ' +\n",
              "            '<a target=\"_blank\" href=https://colab.research.google.com/notebooks/data_table.ipynb>data table notebook</a>'\n",
              "            + ' to learn more about interactive tables.';\n",
              "          element.innerHTML = '';\n",
              "          dataTable['output_type'] = 'display_data';\n",
              "          await google.colab.output.renderOutput(dataTable, element);\n",
              "          const docLink = document.createElement('div');\n",
              "          docLink.innerHTML = docLinkHtml;\n",
              "          element.appendChild(docLink);\n",
              "        }\n",
              "      </script>\n",
              "    </div>\n",
              "  </div>\n",
              "  "
            ]
          },
          "metadata": {}
        }
      ]
    },
    {
      "cell_type": "markdown",
      "source": [
        "# Generating Manifestos"
      ],
      "metadata": {
        "id": "EZEqydnJLFE2"
      }
    },
    {
      "cell_type": "code",
      "source": [
        "!mkdir -p data\n",
        "!mkdir -p data/dicom_s5cmd data/dicom_gsutil data/dicom_gstorage"
      ],
      "metadata": {
        "id": "ZQHZvORVLIut"
      },
      "execution_count": null,
      "outputs": []
    },
    {
      "cell_type": "code",
      "source": [
        "gs_file_path = \"data/gcs_paths.txt\"\n",
        "\n",
        "download_df[\"gcs_url\"].to_csv(gs_file_path, header = False, index = False)"
      ],
      "metadata": {
        "id": "PbpQu9e0LIxT"
      },
      "execution_count": null,
      "outputs": []
    },
    {
      "cell_type": "code",
      "source": [
        "download_path = \"data/dicom_s5cmd/\"\n",
        "\n",
        "s5cmd_gs_file_path = \"data/gcs_url_s5cmd.txt\"\n",
        "\n",
        "gcsurl_temp = \"cp \" + download_df[\"gcs_url\"].str.replace(\"gs://\",\"s3://\") + \" \" + download_path\n",
        "gcsurl_temp.to_csv(s5cmd_gs_file_path, header=False, index=False)"
      ],
      "metadata": {
        "id": "7-FqM6YQMH5_"
      },
      "execution_count": null,
      "outputs": []
    },
    {
      "cell_type": "markdown",
      "source": [
        "# Benchmarking"
      ],
      "metadata": {
        "id": "nhyDJvLRK7u1"
      }
    },
    {
      "cell_type": "code",
      "source": [
        "elapsed = dict()\n",
        "\n",
        "elapsed[\"gsutil\"] = dict()\n",
        "elapsed[\"gstorage\"] = dict()\n",
        "elapsed[\"s5cmd\"] = dict()"
      ],
      "metadata": {
        "id": "fPiNfnx_PawI"
      },
      "execution_count": null,
      "outputs": []
    },
    {
      "cell_type": "markdown",
      "source": [
        "## gsutil"
      ],
      "metadata": {
        "id": "XYi0HaB1Pold"
      }
    },
    {
      "cell_type": "code",
      "source": [
        "%%capture\n",
        "\n",
        "start = time.time()\n",
        "\n",
        "!cat data/gcs_paths.txt | gsutil -m cp -Ir data/dicom_gsutil\n",
        "\n",
        "end = time.time()"
      ],
      "metadata": {
        "id": "dt8hpUWFPorV"
      },
      "execution_count": null,
      "outputs": []
    },
    {
      "cell_type": "code",
      "source": [
        "elapsed[\"gsutil\"][\"time\"] = end - start\n",
        "elapsed[\"gsutil\"][\"n_subjects\"] = len([f for f in os.listdir(\"data/dicom_gsutil\") if \".dcm\" in f])"
      ],
      "metadata": {
        "id": "O2yYPJ6RA-2Y"
      },
      "execution_count": null,
      "outputs": []
    },
    {
      "cell_type": "markdown",
      "source": [
        "## gcloud storage cp"
      ],
      "metadata": {
        "id": "_vFrXupkPefb"
      }
    },
    {
      "cell_type": "code",
      "source": [
        "%%capture\n",
        "\n",
        "start = time.time()\n",
        "\n",
        "!cat data/gcs_paths.txt | gcloud storage cp --read-paths-from-stdin data/dicom_gstorage\n",
        "\n",
        "end = time.time()"
      ],
      "metadata": {
        "id": "eYeHdxHFNlMh"
      },
      "execution_count": null,
      "outputs": []
    },
    {
      "cell_type": "code",
      "source": [
        "elapsed[\"gstorage\"][\"time\"] = end - start\n",
        "elapsed[\"gstorage\"][\"n_subjects\"] = len([f for f in os.listdir(\"data/dicom_gstorage\") if \".dcm\" in f])"
      ],
      "metadata": {
        "id": "4ZzontFt_a6D"
      },
      "execution_count": null,
      "outputs": []
    },
    {
      "cell_type": "markdown",
      "source": [
        "## s5cmd"
      ],
      "metadata": {
        "id": "H7Go8iDzPmmx"
      }
    },
    {
      "cell_type": "code",
      "source": [
        "%%capture\n",
        "\n",
        "start = time.time()\n",
        "\n",
        "!s5cmd --no-sign-request --endpoint-url https://storage.googleapis.com run data/gcs_url_s5cmd.txt\n",
        "\n",
        "end = time.time()"
      ],
      "metadata": {
        "id": "2NFvJ1DRKmf8"
      },
      "execution_count": null,
      "outputs": []
    },
    {
      "cell_type": "code",
      "source": [
        "elapsed[\"s5cmd\"][\"time\"] = end - start\n",
        "elapsed[\"s5cmd\"][\"n_subjects\"] = len([f for f in os.listdir(\"data/dicom_s5cmd\") if \".dcm\" in f])"
      ],
      "metadata": {
        "id": "3bPT23-8U0P5"
      },
      "execution_count": null,
      "outputs": []
    },
    {
      "cell_type": "markdown",
      "source": [
        "# Results\n",
        "\n",
        "Note: we found `gsutil cp` and `gcloud storage cp` speed depends on the time of the day (... something related to the network/traffic?)\n",
        "\n",
        "For instance, it's not rare for the copy operations of `gsutil` and `gcloud storage` to take more than 200 seconds."
      ],
      "metadata": {
        "id": "x3DkjKTjQp4t"
      }
    },
    {
      "cell_type": "code",
      "source": [
        "elapsed_df = pd.DataFrame.from_dict(elapsed, orient=\"index\")\n",
        "\n",
        "elapsed_df"
      ],
      "metadata": {
        "colab": {
          "base_uri": "https://localhost:8080/",
          "height": 143
        },
        "id": "NX6AH9G47cIm",
        "outputId": "bf2f9242-6d00-41f8-8b84-443122f2b7c1"
      },
      "execution_count": null,
      "outputs": [
        {
          "output_type": "execute_result",
          "data": {
            "text/plain": [
              "               time  n_subjects\n",
              "gsutil    55.508122        1000\n",
              "gstorage  58.137904        1000\n",
              "s5cmd      3.700680        1000"
            ],
            "text/html": [
              "\n",
              "  <div id=\"df-233ce1c4-3389-492c-9c06-c49bb1061acd\">\n",
              "    <div class=\"colab-df-container\">\n",
              "      <div>\n",
              "<style scoped>\n",
              "    .dataframe tbody tr th:only-of-type {\n",
              "        vertical-align: middle;\n",
              "    }\n",
              "\n",
              "    .dataframe tbody tr th {\n",
              "        vertical-align: top;\n",
              "    }\n",
              "\n",
              "    .dataframe thead th {\n",
              "        text-align: right;\n",
              "    }\n",
              "</style>\n",
              "<table border=\"1\" class=\"dataframe\">\n",
              "  <thead>\n",
              "    <tr style=\"text-align: right;\">\n",
              "      <th></th>\n",
              "      <th>time</th>\n",
              "      <th>n_subjects</th>\n",
              "    </tr>\n",
              "  </thead>\n",
              "  <tbody>\n",
              "    <tr>\n",
              "      <th>gsutil</th>\n",
              "      <td>55.508122</td>\n",
              "      <td>1000</td>\n",
              "    </tr>\n",
              "    <tr>\n",
              "      <th>gstorage</th>\n",
              "      <td>58.137904</td>\n",
              "      <td>1000</td>\n",
              "    </tr>\n",
              "    <tr>\n",
              "      <th>s5cmd</th>\n",
              "      <td>3.700680</td>\n",
              "      <td>1000</td>\n",
              "    </tr>\n",
              "  </tbody>\n",
              "</table>\n",
              "</div>\n",
              "      <button class=\"colab-df-convert\" onclick=\"convertToInteractive('df-233ce1c4-3389-492c-9c06-c49bb1061acd')\"\n",
              "              title=\"Convert this dataframe to an interactive table.\"\n",
              "              style=\"display:none;\">\n",
              "        \n",
              "  <svg xmlns=\"http://www.w3.org/2000/svg\" height=\"24px\"viewBox=\"0 0 24 24\"\n",
              "       width=\"24px\">\n",
              "    <path d=\"M0 0h24v24H0V0z\" fill=\"none\"/>\n",
              "    <path d=\"M18.56 5.44l.94 2.06.94-2.06 2.06-.94-2.06-.94-.94-2.06-.94 2.06-2.06.94zm-11 1L8.5 8.5l.94-2.06 2.06-.94-2.06-.94L8.5 2.5l-.94 2.06-2.06.94zm10 10l.94 2.06.94-2.06 2.06-.94-2.06-.94-.94-2.06-.94 2.06-2.06.94z\"/><path d=\"M17.41 7.96l-1.37-1.37c-.4-.4-.92-.59-1.43-.59-.52 0-1.04.2-1.43.59L10.3 9.45l-7.72 7.72c-.78.78-.78 2.05 0 2.83L4 21.41c.39.39.9.59 1.41.59.51 0 1.02-.2 1.41-.59l7.78-7.78 2.81-2.81c.8-.78.8-2.07 0-2.86zM5.41 20L4 18.59l7.72-7.72 1.47 1.35L5.41 20z\"/>\n",
              "  </svg>\n",
              "      </button>\n",
              "      \n",
              "  <style>\n",
              "    .colab-df-container {\n",
              "      display:flex;\n",
              "      flex-wrap:wrap;\n",
              "      gap: 12px;\n",
              "    }\n",
              "\n",
              "    .colab-df-convert {\n",
              "      background-color: #E8F0FE;\n",
              "      border: none;\n",
              "      border-radius: 50%;\n",
              "      cursor: pointer;\n",
              "      display: none;\n",
              "      fill: #1967D2;\n",
              "      height: 32px;\n",
              "      padding: 0 0 0 0;\n",
              "      width: 32px;\n",
              "    }\n",
              "\n",
              "    .colab-df-convert:hover {\n",
              "      background-color: #E2EBFA;\n",
              "      box-shadow: 0px 1px 2px rgba(60, 64, 67, 0.3), 0px 1px 3px 1px rgba(60, 64, 67, 0.15);\n",
              "      fill: #174EA6;\n",
              "    }\n",
              "\n",
              "    [theme=dark] .colab-df-convert {\n",
              "      background-color: #3B4455;\n",
              "      fill: #D2E3FC;\n",
              "    }\n",
              "\n",
              "    [theme=dark] .colab-df-convert:hover {\n",
              "      background-color: #434B5C;\n",
              "      box-shadow: 0px 1px 3px 1px rgba(0, 0, 0, 0.15);\n",
              "      filter: drop-shadow(0px 1px 2px rgba(0, 0, 0, 0.3));\n",
              "      fill: #FFFFFF;\n",
              "    }\n",
              "  </style>\n",
              "\n",
              "      <script>\n",
              "        const buttonEl =\n",
              "          document.querySelector('#df-233ce1c4-3389-492c-9c06-c49bb1061acd button.colab-df-convert');\n",
              "        buttonEl.style.display =\n",
              "          google.colab.kernel.accessAllowed ? 'block' : 'none';\n",
              "\n",
              "        async function convertToInteractive(key) {\n",
              "          const element = document.querySelector('#df-233ce1c4-3389-492c-9c06-c49bb1061acd');\n",
              "          const dataTable =\n",
              "            await google.colab.kernel.invokeFunction('convertToInteractive',\n",
              "                                                     [key], {});\n",
              "          if (!dataTable) return;\n",
              "\n",
              "          const docLinkHtml = 'Like what you see? Visit the ' +\n",
              "            '<a target=\"_blank\" href=https://colab.research.google.com/notebooks/data_table.ipynb>data table notebook</a>'\n",
              "            + ' to learn more about interactive tables.';\n",
              "          element.innerHTML = '';\n",
              "          dataTable['output_type'] = 'display_data';\n",
              "          await google.colab.output.renderOutput(dataTable, element);\n",
              "          const docLink = document.createElement('div');\n",
              "          docLink.innerHTML = docLinkHtml;\n",
              "          element.appendChild(docLink);\n",
              "        }\n",
              "      </script>\n",
              "    </div>\n",
              "  </div>\n",
              "  "
            ]
          },
          "metadata": {},
          "execution_count": 19
        }
      ]
    },
    {
      "cell_type": "code",
      "source": [
        "!date"
      ],
      "metadata": {
        "colab": {
          "base_uri": "https://localhost:8080/"
        },
        "id": "Y0TysBtLEvOn",
        "outputId": "caacb146-bdcb-4b25-c156-9dc8e71b4a43"
      },
      "execution_count": null,
      "outputs": [
        {
          "output_type": "stream",
          "name": "stdout",
          "text": [
            "Fri 24 Mar 2023 10:03:46 AM UTC\n"
          ]
        }
      ]
    },
    {
      "cell_type": "code",
      "source": [
        "!du -h -d 1 data/"
      ],
      "metadata": {
        "colab": {
          "base_uri": "https://localhost:8080/"
        },
        "id": "CzksJFUmFjv6",
        "outputId": "7f494e05-06e7-4a0d-eea4-e780d8667222"
      },
      "execution_count": null,
      "outputs": [
        {
          "output_type": "stream",
          "name": "stdout",
          "text": [
            "504M\tdata/dicom_s5cmd\n",
            "504M\tdata/dicom_gsutil\n",
            "504M\tdata/dicom_gstorage\n",
            "1.5G\tdata/\n"
          ]
        }
      ]
    },
    {
      "cell_type": "code",
      "source": [
        "!lscpu"
      ],
      "metadata": {
        "colab": {
          "base_uri": "https://localhost:8080/"
        },
        "id": "HtOqNP88HWQl",
        "outputId": "f18f7846-e7f6-4240-cae2-1b6fb580bb6a"
      },
      "execution_count": 22,
      "outputs": [
        {
          "output_type": "stream",
          "name": "stdout",
          "text": [
            "Architecture:                    x86_64\n",
            "CPU op-mode(s):                  32-bit, 64-bit\n",
            "Byte Order:                      Little Endian\n",
            "Address sizes:                   46 bits physical, 48 bits virtual\n",
            "CPU(s):                          2\n",
            "On-line CPU(s) list:             0,1\n",
            "Thread(s) per core:              2\n",
            "Core(s) per socket:              1\n",
            "Socket(s):                       1\n",
            "NUMA node(s):                    1\n",
            "Vendor ID:                       GenuineIntel\n",
            "CPU family:                      6\n",
            "Model:                           79\n",
            "Model name:                      Intel(R) Xeon(R) CPU @ 2.20GHz\n",
            "Stepping:                        0\n",
            "CPU MHz:                         2199.998\n",
            "BogoMIPS:                        4399.99\n",
            "Hypervisor vendor:               KVM\n",
            "Virtualization type:             full\n",
            "L1d cache:                       32 KiB\n",
            "L1i cache:                       32 KiB\n",
            "L2 cache:                        256 KiB\n",
            "L3 cache:                        55 MiB\n",
            "NUMA node0 CPU(s):               0,1\n",
            "Vulnerability Itlb multihit:     Not affected\n",
            "Vulnerability L1tf:              Mitigation; PTE Inversion\n",
            "Vulnerability Mds:               Vulnerable; SMT Host state unknown\n",
            "Vulnerability Meltdown:          Vulnerable\n",
            "Vulnerability Mmio stale data:   Vulnerable\n",
            "Vulnerability Retbleed:          Vulnerable\n",
            "Vulnerability Spec store bypass: Vulnerable\n",
            "Vulnerability Spectre v1:        Vulnerable: __user pointer sanitization and use\n",
            "                                 rcopy barriers only; no swapgs barriers\n",
            "Vulnerability Spectre v2:        Vulnerable, IBPB: disabled, STIBP: disabled, PB\n",
            "                                 RSB-eIBRS: Not affected\n",
            "Vulnerability Srbds:             Not affected\n",
            "Vulnerability Tsx async abort:   Vulnerable\n",
            "Flags:                           fpu vme de pse tsc msr pae mce cx8 apic sep mtr\n",
            "                                 r pge mca cmov pat pse36 clflush mmx fxsr sse s\n",
            "                                 se2 ss ht syscall nx pdpe1gb rdtscp lm constant\n",
            "                                 _tsc rep_good nopl xtopology nonstop_tsc cpuid \n",
            "                                 tsc_known_freq pni pclmulqdq ssse3 fma cx16 pci\n",
            "                                 d sse4_1 sse4_2 x2apic movbe popcnt aes xsave a\n",
            "                                 vx f16c rdrand hypervisor lahf_lm abm 3dnowpref\n",
            "                                 etch invpcid_single ssbd ibrs ibpb stibp fsgsba\n",
            "                                 se tsc_adjust bmi1 hle avx2 smep bmi2 erms invp\n",
            "                                 cid rtm rdseed adx smap xsaveopt arat md_clear \n",
            "                                 arch_capabilities\n"
          ]
        }
      ]
    },
    {
      "cell_type": "code",
      "source": [
        "!free -m"
      ],
      "metadata": {
        "colab": {
          "base_uri": "https://localhost:8080/"
        },
        "id": "yaWd7oVtHW0z",
        "outputId": "120fee68-bb98-4960-88ca-9b3fd3be68ba"
      },
      "execution_count": 23,
      "outputs": [
        {
          "output_type": "stream",
          "name": "stdout",
          "text": [
            "              total        used        free      shared  buff/cache   available\n",
            "Mem:          12985         757        8251           1        3976       11929\n",
            "Swap:             0           0           0\n"
          ]
        }
      ]
    },
    {
      "cell_type": "code",
      "source": [
        "!apt install speedtest-cli\n",
        "!speedtest-cli"
      ],
      "metadata": {
        "colab": {
          "base_uri": "https://localhost:8080/"
        },
        "id": "nealWIxkIvQ2",
        "outputId": "b75305f6-def0-45b0-bf4a-daa45bf01051"
      },
      "execution_count": 24,
      "outputs": [
        {
          "output_type": "stream",
          "name": "stdout",
          "text": [
            "Reading package lists... Done\n",
            "Building dependency tree       \n",
            "Reading state information... Done\n",
            "The following NEW packages will be installed:\n",
            "  speedtest-cli\n",
            "0 upgraded, 1 newly installed, 0 to remove and 23 not upgraded.\n",
            "Need to get 24.0 kB of archives.\n",
            "After this operation, 106 kB of additional disk space will be used.\n",
            "Get:1 http://archive.ubuntu.com/ubuntu focal-updates/universe amd64 speedtest-cli all 2.1.2-2ubuntu0.20.04.1 [24.0 kB]\n",
            "Fetched 24.0 kB in 0s (176 kB/s)\n",
            "Selecting previously unselected package speedtest-cli.\n",
            "(Reading database ... 128285 files and directories currently installed.)\n",
            "Preparing to unpack .../speedtest-cli_2.1.2-2ubuntu0.20.04.1_all.deb ...\n",
            "Unpacking speedtest-cli (2.1.2-2ubuntu0.20.04.1) ...\n",
            "Setting up speedtest-cli (2.1.2-2ubuntu0.20.04.1) ...\n",
            "Processing triggers for man-db (2.9.1-1) ...\n",
            "Retrieving speedtest.net configuration...\n",
            "Testing from Google Cloud (34.73.156.222)...\n",
            "Retrieving speedtest.net server list...\n",
            "Selecting best server based on ping...\n",
            "Hosted by AT&T (Tucker, GA) [409.19 km]: 15.587 ms\n",
            "Testing download speed................................................................................\n",
            "Download: 1931.56 Mbit/s\n",
            "Testing upload speed......................................................................................................\n",
            "Upload: 547.76 Mbit/s\n"
          ]
        }
      ]
    }
  ]
}