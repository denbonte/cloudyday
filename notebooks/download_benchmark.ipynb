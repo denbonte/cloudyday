{
  "nbformat": 4,
  "nbformat_minor": 0,
  "metadata": {
    "colab": {
      "provenance": [],
      "authorship_tag": "ABX9TyMgX8eD8THLqR8Ay0OycDKK",
      "include_colab_link": true
    },
    "kernelspec": {
      "name": "python3",
      "display_name": "Python 3"
    },
    "language_info": {
      "name": "python"
    },
    "widgets": {
      "application/vnd.jupyter.widget-state+json": {
        "7dba72763d3f41bfb1fd5f6ec18e7348": {
          "model_module": "@jupyter-widgets/controls",
          "model_name": "HBoxModel",
          "model_module_version": "1.5.0",
          "state": {
            "_dom_classes": [],
            "_model_module": "@jupyter-widgets/controls",
            "_model_module_version": "1.5.0",
            "_model_name": "HBoxModel",
            "_view_count": null,
            "_view_module": "@jupyter-widgets/controls",
            "_view_module_version": "1.5.0",
            "_view_name": "HBoxView",
            "box_style": "",
            "children": [
              "IPY_MODEL_9b1f93b27ec94da8b89e5d3010ca13eb",
              "IPY_MODEL_93bc7ef5be2f4975bda363dd25e60413",
              "IPY_MODEL_b9a2e26163be4b429320be26069de930"
            ],
            "layout": "IPY_MODEL_f80503c31f65461092c7123d715e4f15"
          }
        },
        "9b1f93b27ec94da8b89e5d3010ca13eb": {
          "model_module": "@jupyter-widgets/controls",
          "model_name": "HTMLModel",
          "model_module_version": "1.5.0",
          "state": {
            "_dom_classes": [],
            "_model_module": "@jupyter-widgets/controls",
            "_model_module_version": "1.5.0",
            "_model_name": "HTMLModel",
            "_view_count": null,
            "_view_module": "@jupyter-widgets/controls",
            "_view_module_version": "1.5.0",
            "_view_name": "HTMLView",
            "description": "",
            "description_tooltip": null,
            "layout": "IPY_MODEL_b229bf4cfff14528b15375e5a1df1f01",
            "placeholder": "​",
            "style": "IPY_MODEL_cb58814a974c4b78919825c314b449e8",
            "value": "Job ID b90afb90-97ec-4c76-ab6a-67f4bf8308c4 successfully executed: 100%"
          }
        },
        "93bc7ef5be2f4975bda363dd25e60413": {
          "model_module": "@jupyter-widgets/controls",
          "model_name": "FloatProgressModel",
          "model_module_version": "1.5.0",
          "state": {
            "_dom_classes": [],
            "_model_module": "@jupyter-widgets/controls",
            "_model_module_version": "1.5.0",
            "_model_name": "FloatProgressModel",
            "_view_count": null,
            "_view_module": "@jupyter-widgets/controls",
            "_view_module_version": "1.5.0",
            "_view_name": "ProgressView",
            "bar_style": "success",
            "description": "",
            "description_tooltip": null,
            "layout": "IPY_MODEL_6964b7634c044447b8bf97684cdea66f",
            "max": 1,
            "min": 0,
            "orientation": "horizontal",
            "style": "IPY_MODEL_5707d8383662469f998711b86515df3c",
            "value": 1
          }
        },
        "b9a2e26163be4b429320be26069de930": {
          "model_module": "@jupyter-widgets/controls",
          "model_name": "HTMLModel",
          "model_module_version": "1.5.0",
          "state": {
            "_dom_classes": [],
            "_model_module": "@jupyter-widgets/controls",
            "_model_module_version": "1.5.0",
            "_model_name": "HTMLModel",
            "_view_count": null,
            "_view_module": "@jupyter-widgets/controls",
            "_view_module_version": "1.5.0",
            "_view_name": "HTMLView",
            "description": "",
            "description_tooltip": null,
            "layout": "IPY_MODEL_9b5560211d4d44c8880ca32904fc04d3",
            "placeholder": "​",
            "style": "IPY_MODEL_8072bb4f89fe490d8a880860ffd4d01c",
            "value": ""
          }
        },
        "f80503c31f65461092c7123d715e4f15": {
          "model_module": "@jupyter-widgets/base",
          "model_name": "LayoutModel",
          "model_module_version": "1.2.0",
          "state": {
            "_model_module": "@jupyter-widgets/base",
            "_model_module_version": "1.2.0",
            "_model_name": "LayoutModel",
            "_view_count": null,
            "_view_module": "@jupyter-widgets/base",
            "_view_module_version": "1.2.0",
            "_view_name": "LayoutView",
            "align_content": null,
            "align_items": null,
            "align_self": null,
            "border": null,
            "bottom": null,
            "display": null,
            "flex": null,
            "flex_flow": null,
            "grid_area": null,
            "grid_auto_columns": null,
            "grid_auto_flow": null,
            "grid_auto_rows": null,
            "grid_column": null,
            "grid_gap": null,
            "grid_row": null,
            "grid_template_areas": null,
            "grid_template_columns": null,
            "grid_template_rows": null,
            "height": null,
            "justify_content": null,
            "justify_items": null,
            "left": null,
            "margin": null,
            "max_height": null,
            "max_width": null,
            "min_height": null,
            "min_width": null,
            "object_fit": null,
            "object_position": null,
            "order": null,
            "overflow": null,
            "overflow_x": null,
            "overflow_y": null,
            "padding": null,
            "right": null,
            "top": null,
            "visibility": null,
            "width": null
          }
        },
        "b229bf4cfff14528b15375e5a1df1f01": {
          "model_module": "@jupyter-widgets/base",
          "model_name": "LayoutModel",
          "model_module_version": "1.2.0",
          "state": {
            "_model_module": "@jupyter-widgets/base",
            "_model_module_version": "1.2.0",
            "_model_name": "LayoutModel",
            "_view_count": null,
            "_view_module": "@jupyter-widgets/base",
            "_view_module_version": "1.2.0",
            "_view_name": "LayoutView",
            "align_content": null,
            "align_items": null,
            "align_self": null,
            "border": null,
            "bottom": null,
            "display": null,
            "flex": null,
            "flex_flow": null,
            "grid_area": null,
            "grid_auto_columns": null,
            "grid_auto_flow": null,
            "grid_auto_rows": null,
            "grid_column": null,
            "grid_gap": null,
            "grid_row": null,
            "grid_template_areas": null,
            "grid_template_columns": null,
            "grid_template_rows": null,
            "height": null,
            "justify_content": null,
            "justify_items": null,
            "left": null,
            "margin": null,
            "max_height": null,
            "max_width": null,
            "min_height": null,
            "min_width": null,
            "object_fit": null,
            "object_position": null,
            "order": null,
            "overflow": null,
            "overflow_x": null,
            "overflow_y": null,
            "padding": null,
            "right": null,
            "top": null,
            "visibility": null,
            "width": null
          }
        },
        "cb58814a974c4b78919825c314b449e8": {
          "model_module": "@jupyter-widgets/controls",
          "model_name": "DescriptionStyleModel",
          "model_module_version": "1.5.0",
          "state": {
            "_model_module": "@jupyter-widgets/controls",
            "_model_module_version": "1.5.0",
            "_model_name": "DescriptionStyleModel",
            "_view_count": null,
            "_view_module": "@jupyter-widgets/base",
            "_view_module_version": "1.2.0",
            "_view_name": "StyleView",
            "description_width": ""
          }
        },
        "6964b7634c044447b8bf97684cdea66f": {
          "model_module": "@jupyter-widgets/base",
          "model_name": "LayoutModel",
          "model_module_version": "1.2.0",
          "state": {
            "_model_module": "@jupyter-widgets/base",
            "_model_module_version": "1.2.0",
            "_model_name": "LayoutModel",
            "_view_count": null,
            "_view_module": "@jupyter-widgets/base",
            "_view_module_version": "1.2.0",
            "_view_name": "LayoutView",
            "align_content": null,
            "align_items": null,
            "align_self": null,
            "border": null,
            "bottom": null,
            "display": null,
            "flex": null,
            "flex_flow": null,
            "grid_area": null,
            "grid_auto_columns": null,
            "grid_auto_flow": null,
            "grid_auto_rows": null,
            "grid_column": null,
            "grid_gap": null,
            "grid_row": null,
            "grid_template_areas": null,
            "grid_template_columns": null,
            "grid_template_rows": null,
            "height": null,
            "justify_content": null,
            "justify_items": null,
            "left": null,
            "margin": null,
            "max_height": null,
            "max_width": null,
            "min_height": null,
            "min_width": null,
            "object_fit": null,
            "object_position": null,
            "order": null,
            "overflow": null,
            "overflow_x": null,
            "overflow_y": null,
            "padding": null,
            "right": null,
            "top": null,
            "visibility": null,
            "width": null
          }
        },
        "5707d8383662469f998711b86515df3c": {
          "model_module": "@jupyter-widgets/controls",
          "model_name": "ProgressStyleModel",
          "model_module_version": "1.5.0",
          "state": {
            "_model_module": "@jupyter-widgets/controls",
            "_model_module_version": "1.5.0",
            "_model_name": "ProgressStyleModel",
            "_view_count": null,
            "_view_module": "@jupyter-widgets/base",
            "_view_module_version": "1.2.0",
            "_view_name": "StyleView",
            "bar_color": null,
            "description_width": ""
          }
        },
        "9b5560211d4d44c8880ca32904fc04d3": {
          "model_module": "@jupyter-widgets/base",
          "model_name": "LayoutModel",
          "model_module_version": "1.2.0",
          "state": {
            "_model_module": "@jupyter-widgets/base",
            "_model_module_version": "1.2.0",
            "_model_name": "LayoutModel",
            "_view_count": null,
            "_view_module": "@jupyter-widgets/base",
            "_view_module_version": "1.2.0",
            "_view_name": "LayoutView",
            "align_content": null,
            "align_items": null,
            "align_self": null,
            "border": null,
            "bottom": null,
            "display": null,
            "flex": null,
            "flex_flow": null,
            "grid_area": null,
            "grid_auto_columns": null,
            "grid_auto_flow": null,
            "grid_auto_rows": null,
            "grid_column": null,
            "grid_gap": null,
            "grid_row": null,
            "grid_template_areas": null,
            "grid_template_columns": null,
            "grid_template_rows": null,
            "height": null,
            "justify_content": null,
            "justify_items": null,
            "left": null,
            "margin": null,
            "max_height": null,
            "max_width": null,
            "min_height": null,
            "min_width": null,
            "object_fit": null,
            "object_position": null,
            "order": null,
            "overflow": null,
            "overflow_x": null,
            "overflow_y": null,
            "padding": null,
            "right": null,
            "top": null,
            "visibility": null,
            "width": null
          }
        },
        "8072bb4f89fe490d8a880860ffd4d01c": {
          "model_module": "@jupyter-widgets/controls",
          "model_name": "DescriptionStyleModel",
          "model_module_version": "1.5.0",
          "state": {
            "_model_module": "@jupyter-widgets/controls",
            "_model_module_version": "1.5.0",
            "_model_name": "DescriptionStyleModel",
            "_view_count": null,
            "_view_module": "@jupyter-widgets/base",
            "_view_module_version": "1.2.0",
            "_view_name": "StyleView",
            "description_width": ""
          }
        },
        "1e12575a993748e88d5b07ebe7127de9": {
          "model_module": "@jupyter-widgets/controls",
          "model_name": "HBoxModel",
          "model_module_version": "1.5.0",
          "state": {
            "_dom_classes": [],
            "_model_module": "@jupyter-widgets/controls",
            "_model_module_version": "1.5.0",
            "_model_name": "HBoxModel",
            "_view_count": null,
            "_view_module": "@jupyter-widgets/controls",
            "_view_module_version": "1.5.0",
            "_view_name": "HBoxView",
            "box_style": "",
            "children": [
              "IPY_MODEL_65b175675d324d3a9c87eea55e25e2b0",
              "IPY_MODEL_b8cf292e18ae4af6afb2cf2fa3256363",
              "IPY_MODEL_ee41680c6dca490dbb3c7f4af6a6fc1b"
            ],
            "layout": "IPY_MODEL_b58f8461ff5c45d2aa60b0c3e7959b60"
          }
        },
        "65b175675d324d3a9c87eea55e25e2b0": {
          "model_module": "@jupyter-widgets/controls",
          "model_name": "HTMLModel",
          "model_module_version": "1.5.0",
          "state": {
            "_dom_classes": [],
            "_model_module": "@jupyter-widgets/controls",
            "_model_module_version": "1.5.0",
            "_model_name": "HTMLModel",
            "_view_count": null,
            "_view_module": "@jupyter-widgets/controls",
            "_view_module_version": "1.5.0",
            "_view_name": "HTMLView",
            "description": "",
            "description_tooltip": null,
            "layout": "IPY_MODEL_bded20e765f74214a53be9ed3b4e8878",
            "placeholder": "​",
            "style": "IPY_MODEL_c4b50197fba64554a7a33b44d05e7808",
            "value": "Downloading: 100%"
          }
        },
        "b8cf292e18ae4af6afb2cf2fa3256363": {
          "model_module": "@jupyter-widgets/controls",
          "model_name": "FloatProgressModel",
          "model_module_version": "1.5.0",
          "state": {
            "_dom_classes": [],
            "_model_module": "@jupyter-widgets/controls",
            "_model_module_version": "1.5.0",
            "_model_name": "FloatProgressModel",
            "_view_count": null,
            "_view_module": "@jupyter-widgets/controls",
            "_view_module_version": "1.5.0",
            "_view_name": "ProgressView",
            "bar_style": "success",
            "description": "",
            "description_tooltip": null,
            "layout": "IPY_MODEL_f9a49648feb546b2b13393239674166a",
            "max": 51230,
            "min": 0,
            "orientation": "horizontal",
            "style": "IPY_MODEL_a75b73e363dc451e829cf30db5602f5e",
            "value": 51230
          }
        },
        "ee41680c6dca490dbb3c7f4af6a6fc1b": {
          "model_module": "@jupyter-widgets/controls",
          "model_name": "HTMLModel",
          "model_module_version": "1.5.0",
          "state": {
            "_dom_classes": [],
            "_model_module": "@jupyter-widgets/controls",
            "_model_module_version": "1.5.0",
            "_model_name": "HTMLModel",
            "_view_count": null,
            "_view_module": "@jupyter-widgets/controls",
            "_view_module_version": "1.5.0",
            "_view_name": "HTMLView",
            "description": "",
            "description_tooltip": null,
            "layout": "IPY_MODEL_cfadd3fb8a624bb691db46c4de4bee25",
            "placeholder": "​",
            "style": "IPY_MODEL_96913cdc083d468ebc9900ee3cc120e4",
            "value": ""
          }
        },
        "b58f8461ff5c45d2aa60b0c3e7959b60": {
          "model_module": "@jupyter-widgets/base",
          "model_name": "LayoutModel",
          "model_module_version": "1.2.0",
          "state": {
            "_model_module": "@jupyter-widgets/base",
            "_model_module_version": "1.2.0",
            "_model_name": "LayoutModel",
            "_view_count": null,
            "_view_module": "@jupyter-widgets/base",
            "_view_module_version": "1.2.0",
            "_view_name": "LayoutView",
            "align_content": null,
            "align_items": null,
            "align_self": null,
            "border": null,
            "bottom": null,
            "display": null,
            "flex": null,
            "flex_flow": null,
            "grid_area": null,
            "grid_auto_columns": null,
            "grid_auto_flow": null,
            "grid_auto_rows": null,
            "grid_column": null,
            "grid_gap": null,
            "grid_row": null,
            "grid_template_areas": null,
            "grid_template_columns": null,
            "grid_template_rows": null,
            "height": null,
            "justify_content": null,
            "justify_items": null,
            "left": null,
            "margin": null,
            "max_height": null,
            "max_width": null,
            "min_height": null,
            "min_width": null,
            "object_fit": null,
            "object_position": null,
            "order": null,
            "overflow": null,
            "overflow_x": null,
            "overflow_y": null,
            "padding": null,
            "right": null,
            "top": null,
            "visibility": null,
            "width": null
          }
        },
        "bded20e765f74214a53be9ed3b4e8878": {
          "model_module": "@jupyter-widgets/base",
          "model_name": "LayoutModel",
          "model_module_version": "1.2.0",
          "state": {
            "_model_module": "@jupyter-widgets/base",
            "_model_module_version": "1.2.0",
            "_model_name": "LayoutModel",
            "_view_count": null,
            "_view_module": "@jupyter-widgets/base",
            "_view_module_version": "1.2.0",
            "_view_name": "LayoutView",
            "align_content": null,
            "align_items": null,
            "align_self": null,
            "border": null,
            "bottom": null,
            "display": null,
            "flex": null,
            "flex_flow": null,
            "grid_area": null,
            "grid_auto_columns": null,
            "grid_auto_flow": null,
            "grid_auto_rows": null,
            "grid_column": null,
            "grid_gap": null,
            "grid_row": null,
            "grid_template_areas": null,
            "grid_template_columns": null,
            "grid_template_rows": null,
            "height": null,
            "justify_content": null,
            "justify_items": null,
            "left": null,
            "margin": null,
            "max_height": null,
            "max_width": null,
            "min_height": null,
            "min_width": null,
            "object_fit": null,
            "object_position": null,
            "order": null,
            "overflow": null,
            "overflow_x": null,
            "overflow_y": null,
            "padding": null,
            "right": null,
            "top": null,
            "visibility": null,
            "width": null
          }
        },
        "c4b50197fba64554a7a33b44d05e7808": {
          "model_module": "@jupyter-widgets/controls",
          "model_name": "DescriptionStyleModel",
          "model_module_version": "1.5.0",
          "state": {
            "_model_module": "@jupyter-widgets/controls",
            "_model_module_version": "1.5.0",
            "_model_name": "DescriptionStyleModel",
            "_view_count": null,
            "_view_module": "@jupyter-widgets/base",
            "_view_module_version": "1.2.0",
            "_view_name": "StyleView",
            "description_width": ""
          }
        },
        "f9a49648feb546b2b13393239674166a": {
          "model_module": "@jupyter-widgets/base",
          "model_name": "LayoutModel",
          "model_module_version": "1.2.0",
          "state": {
            "_model_module": "@jupyter-widgets/base",
            "_model_module_version": "1.2.0",
            "_model_name": "LayoutModel",
            "_view_count": null,
            "_view_module": "@jupyter-widgets/base",
            "_view_module_version": "1.2.0",
            "_view_name": "LayoutView",
            "align_content": null,
            "align_items": null,
            "align_self": null,
            "border": null,
            "bottom": null,
            "display": null,
            "flex": null,
            "flex_flow": null,
            "grid_area": null,
            "grid_auto_columns": null,
            "grid_auto_flow": null,
            "grid_auto_rows": null,
            "grid_column": null,
            "grid_gap": null,
            "grid_row": null,
            "grid_template_areas": null,
            "grid_template_columns": null,
            "grid_template_rows": null,
            "height": null,
            "justify_content": null,
            "justify_items": null,
            "left": null,
            "margin": null,
            "max_height": null,
            "max_width": null,
            "min_height": null,
            "min_width": null,
            "object_fit": null,
            "object_position": null,
            "order": null,
            "overflow": null,
            "overflow_x": null,
            "overflow_y": null,
            "padding": null,
            "right": null,
            "top": null,
            "visibility": null,
            "width": null
          }
        },
        "a75b73e363dc451e829cf30db5602f5e": {
          "model_module": "@jupyter-widgets/controls",
          "model_name": "ProgressStyleModel",
          "model_module_version": "1.5.0",
          "state": {
            "_model_module": "@jupyter-widgets/controls",
            "_model_module_version": "1.5.0",
            "_model_name": "ProgressStyleModel",
            "_view_count": null,
            "_view_module": "@jupyter-widgets/base",
            "_view_module_version": "1.2.0",
            "_view_name": "StyleView",
            "bar_color": null,
            "description_width": ""
          }
        },
        "cfadd3fb8a624bb691db46c4de4bee25": {
          "model_module": "@jupyter-widgets/base",
          "model_name": "LayoutModel",
          "model_module_version": "1.2.0",
          "state": {
            "_model_module": "@jupyter-widgets/base",
            "_model_module_version": "1.2.0",
            "_model_name": "LayoutModel",
            "_view_count": null,
            "_view_module": "@jupyter-widgets/base",
            "_view_module_version": "1.2.0",
            "_view_name": "LayoutView",
            "align_content": null,
            "align_items": null,
            "align_self": null,
            "border": null,
            "bottom": null,
            "display": null,
            "flex": null,
            "flex_flow": null,
            "grid_area": null,
            "grid_auto_columns": null,
            "grid_auto_flow": null,
            "grid_auto_rows": null,
            "grid_column": null,
            "grid_gap": null,
            "grid_row": null,
            "grid_template_areas": null,
            "grid_template_columns": null,
            "grid_template_rows": null,
            "height": null,
            "justify_content": null,
            "justify_items": null,
            "left": null,
            "margin": null,
            "max_height": null,
            "max_width": null,
            "min_height": null,
            "min_width": null,
            "object_fit": null,
            "object_position": null,
            "order": null,
            "overflow": null,
            "overflow_x": null,
            "overflow_y": null,
            "padding": null,
            "right": null,
            "top": null,
            "visibility": null,
            "width": null
          }
        },
        "96913cdc083d468ebc9900ee3cc120e4": {
          "model_module": "@jupyter-widgets/controls",
          "model_name": "DescriptionStyleModel",
          "model_module_version": "1.5.0",
          "state": {
            "_model_module": "@jupyter-widgets/controls",
            "_model_module_version": "1.5.0",
            "_model_name": "DescriptionStyleModel",
            "_view_count": null,
            "_view_module": "@jupyter-widgets/base",
            "_view_module_version": "1.2.0",
            "_view_name": "StyleView",
            "description_width": ""
          }
        }
      }
    }
  },
  "cells": [
    {
      "cell_type": "markdown",
      "metadata": {
        "id": "view-in-github",
        "colab_type": "text"
      },
      "source": [
        "<a href=\"https://colab.research.google.com/github/denbonte/cloudyday/blob/main/notebooks/download_benchmark.ipynb\" target=\"_parent\"><img src=\"https://colab.research.google.com/assets/colab-badge.svg\" alt=\"Open In Colab\"/></a>"
      ]
    },
    {
      "cell_type": "markdown",
      "source": [
        "# Environment Setup"
      ],
      "metadata": {
        "id": "-uEui8vkK4e2"
      }
    },
    {
      "cell_type": "code",
      "execution_count": 1,
      "metadata": {
        "id": "Kg6xrmLaJkxw"
      },
      "outputs": [],
      "source": [
        "from google.colab import auth\n",
        "auth.authenticate_user()"
      ]
    },
    {
      "cell_type": "code",
      "source": [
        "import time\n",
        "import pprint\n",
        "import pandas as pd\n",
        "\n",
        "pp = pprint.PrettyPrinter(indent=4)"
      ],
      "metadata": {
        "id": "oefZuKuyNL5B"
      },
      "execution_count": 2,
      "outputs": []
    },
    {
      "cell_type": "code",
      "source": [
        "my_ProjectID=\"idc-sandbox-000\""
      ],
      "metadata": {
        "id": "qPkzTI3PKBPK"
      },
      "execution_count": 3,
      "outputs": []
    },
    {
      "cell_type": "code",
      "source": [
        "%%bigquery cohort_df --project=$my_ProjectID\n",
        "\n",
        "SELECT\n",
        "  PatientID,\n",
        "  StudyInstanceUID,\n",
        "  SeriesInstanceUID,\n",
        "  SOPInstanceUID,\n",
        "  gcs_url\n",
        "FROM\n",
        "  `bigquery-public-data.idc_current.dicom_all`\n",
        "WHERE\n",
        "  collection_id = \"nsclc_radiomics\"\n",
        "  AND Modality = \"CT\"\n",
        "ORDER BY\n",
        "  PatientID"
      ],
      "metadata": {
        "colab": {
          "base_uri": "https://localhost:8080/",
          "height": 81,
          "referenced_widgets": [
            "7dba72763d3f41bfb1fd5f6ec18e7348",
            "9b1f93b27ec94da8b89e5d3010ca13eb",
            "93bc7ef5be2f4975bda363dd25e60413",
            "b9a2e26163be4b429320be26069de930",
            "f80503c31f65461092c7123d715e4f15",
            "b229bf4cfff14528b15375e5a1df1f01",
            "cb58814a974c4b78919825c314b449e8",
            "6964b7634c044447b8bf97684cdea66f",
            "5707d8383662469f998711b86515df3c",
            "9b5560211d4d44c8880ca32904fc04d3",
            "8072bb4f89fe490d8a880860ffd4d01c",
            "1e12575a993748e88d5b07ebe7127de9",
            "65b175675d324d3a9c87eea55e25e2b0",
            "b8cf292e18ae4af6afb2cf2fa3256363",
            "ee41680c6dca490dbb3c7f4af6a6fc1b",
            "b58f8461ff5c45d2aa60b0c3e7959b60",
            "bded20e765f74214a53be9ed3b4e8878",
            "c4b50197fba64554a7a33b44d05e7808",
            "f9a49648feb546b2b13393239674166a",
            "a75b73e363dc451e829cf30db5602f5e",
            "cfadd3fb8a624bb691db46c4de4bee25",
            "96913cdc083d468ebc9900ee3cc120e4"
          ]
        },
        "id": "1uGH9RpIJvSi",
        "outputId": "77291831-6abe-4de8-a391-331b19efcc48"
      },
      "execution_count": 4,
      "outputs": [
        {
          "output_type": "display_data",
          "data": {
            "text/plain": [
              "Query is running:   0%|          |"
            ],
            "application/vnd.jupyter.widget-view+json": {
              "version_major": 2,
              "version_minor": 0,
              "model_id": "7dba72763d3f41bfb1fd5f6ec18e7348"
            }
          },
          "metadata": {}
        },
        {
          "output_type": "display_data",
          "data": {
            "text/plain": [
              "Downloading:   0%|          |"
            ],
            "application/vnd.jupyter.widget-view+json": {
              "version_major": 2,
              "version_minor": 0,
              "model_id": "1e12575a993748e88d5b07ebe7127de9"
            }
          },
          "metadata": {}
        }
      ]
    },
    {
      "cell_type": "code",
      "source": [
        "display(cohort_df.info())\n",
        "display(cohort_df.head())"
      ],
      "metadata": {
        "colab": {
          "base_uri": "https://localhost:8080/",
          "height": 918
        },
        "id": "2nexoMQyJvUs",
        "outputId": "e60f8d7f-90a1-4b6f-bc0c-f4de6c40dec0"
      },
      "execution_count": 5,
      "outputs": [
        {
          "output_type": "stream",
          "name": "stdout",
          "text": [
            "<class 'pandas.core.frame.DataFrame'>\n",
            "RangeIndex: 51230 entries, 0 to 51229\n",
            "Data columns (total 5 columns):\n",
            " #   Column             Non-Null Count  Dtype \n",
            "---  ------             --------------  ----- \n",
            " 0   PatientID          51230 non-null  object\n",
            " 1   StudyInstanceUID   51230 non-null  object\n",
            " 2   SeriesInstanceUID  51230 non-null  object\n",
            " 3   SOPInstanceUID     51230 non-null  object\n",
            " 4   gcs_url            51230 non-null  object\n",
            "dtypes: object(5)\n",
            "memory usage: 2.0+ MB\n"
          ]
        },
        {
          "output_type": "display_data",
          "data": {
            "text/plain": [
              "None"
            ]
          },
          "metadata": {}
        },
        {
          "output_type": "display_data",
          "data": {
            "text/plain": [
              "   PatientID                                   StudyInstanceUID  \\\n",
              "0  LUNG1-001  1.3.6.1.4.1.32722.99.99.2393413539117143687725...   \n",
              "1  LUNG1-001  1.3.6.1.4.1.32722.99.99.2393413539117143687725...   \n",
              "2  LUNG1-001  1.3.6.1.4.1.32722.99.99.2393413539117143687725...   \n",
              "3  LUNG1-001  1.3.6.1.4.1.32722.99.99.2393413539117143687725...   \n",
              "4  LUNG1-001  1.3.6.1.4.1.32722.99.99.2393413539117143687725...   \n",
              "\n",
              "                                   SeriesInstanceUID  \\\n",
              "0  1.3.6.1.4.1.32722.99.99.2989917765213423750108...   \n",
              "1  1.3.6.1.4.1.32722.99.99.2989917765213423750108...   \n",
              "2  1.3.6.1.4.1.32722.99.99.2989917765213423750108...   \n",
              "3  1.3.6.1.4.1.32722.99.99.2989917765213423750108...   \n",
              "4  1.3.6.1.4.1.32722.99.99.2989917765213423750108...   \n",
              "\n",
              "                                      SOPInstanceUID  \\\n",
              "0  1.3.6.1.4.1.32722.99.99.3078801584366390810576...   \n",
              "1  1.3.6.1.4.1.32722.99.99.3107100702111033256711...   \n",
              "2  1.3.6.1.4.1.32722.99.99.1064644568755722921755...   \n",
              "3  1.3.6.1.4.1.32722.99.99.1378828584856047266870...   \n",
              "4  1.3.6.1.4.1.32722.99.99.6917641808288785879158...   \n",
              "\n",
              "                                             gcs_url  \n",
              "0  gs://idc-open-cr/ed62c42c-c261-44c4-a4a5-0bc77...  \n",
              "1  gs://idc-open-cr/23b87c17-76eb-405d-a033-b8f55...  \n",
              "2  gs://idc-open-cr/fdbe15bb-a030-4a8d-b041-b4a73...  \n",
              "3  gs://idc-open-cr/7193a2f1-781a-4017-b92f-56f28...  \n",
              "4  gs://idc-open-cr/ed7c0188-93ed-480b-a8b0-31887...  "
            ],
            "text/html": [
              "\n",
              "  <div id=\"df-6eaafca1-49df-466b-925d-f32aa90e90e2\">\n",
              "    <div class=\"colab-df-container\">\n",
              "      <div>\n",
              "<style scoped>\n",
              "    .dataframe tbody tr th:only-of-type {\n",
              "        vertical-align: middle;\n",
              "    }\n",
              "\n",
              "    .dataframe tbody tr th {\n",
              "        vertical-align: top;\n",
              "    }\n",
              "\n",
              "    .dataframe thead th {\n",
              "        text-align: right;\n",
              "    }\n",
              "</style>\n",
              "<table border=\"1\" class=\"dataframe\">\n",
              "  <thead>\n",
              "    <tr style=\"text-align: right;\">\n",
              "      <th></th>\n",
              "      <th>PatientID</th>\n",
              "      <th>StudyInstanceUID</th>\n",
              "      <th>SeriesInstanceUID</th>\n",
              "      <th>SOPInstanceUID</th>\n",
              "      <th>gcs_url</th>\n",
              "    </tr>\n",
              "  </thead>\n",
              "  <tbody>\n",
              "    <tr>\n",
              "      <th>0</th>\n",
              "      <td>LUNG1-001</td>\n",
              "      <td>1.3.6.1.4.1.32722.99.99.2393413539117143687725...</td>\n",
              "      <td>1.3.6.1.4.1.32722.99.99.2989917765213423750108...</td>\n",
              "      <td>1.3.6.1.4.1.32722.99.99.3078801584366390810576...</td>\n",
              "      <td>gs://idc-open-cr/ed62c42c-c261-44c4-a4a5-0bc77...</td>\n",
              "    </tr>\n",
              "    <tr>\n",
              "      <th>1</th>\n",
              "      <td>LUNG1-001</td>\n",
              "      <td>1.3.6.1.4.1.32722.99.99.2393413539117143687725...</td>\n",
              "      <td>1.3.6.1.4.1.32722.99.99.2989917765213423750108...</td>\n",
              "      <td>1.3.6.1.4.1.32722.99.99.3107100702111033256711...</td>\n",
              "      <td>gs://idc-open-cr/23b87c17-76eb-405d-a033-b8f55...</td>\n",
              "    </tr>\n",
              "    <tr>\n",
              "      <th>2</th>\n",
              "      <td>LUNG1-001</td>\n",
              "      <td>1.3.6.1.4.1.32722.99.99.2393413539117143687725...</td>\n",
              "      <td>1.3.6.1.4.1.32722.99.99.2989917765213423750108...</td>\n",
              "      <td>1.3.6.1.4.1.32722.99.99.1064644568755722921755...</td>\n",
              "      <td>gs://idc-open-cr/fdbe15bb-a030-4a8d-b041-b4a73...</td>\n",
              "    </tr>\n",
              "    <tr>\n",
              "      <th>3</th>\n",
              "      <td>LUNG1-001</td>\n",
              "      <td>1.3.6.1.4.1.32722.99.99.2393413539117143687725...</td>\n",
              "      <td>1.3.6.1.4.1.32722.99.99.2989917765213423750108...</td>\n",
              "      <td>1.3.6.1.4.1.32722.99.99.1378828584856047266870...</td>\n",
              "      <td>gs://idc-open-cr/7193a2f1-781a-4017-b92f-56f28...</td>\n",
              "    </tr>\n",
              "    <tr>\n",
              "      <th>4</th>\n",
              "      <td>LUNG1-001</td>\n",
              "      <td>1.3.6.1.4.1.32722.99.99.2393413539117143687725...</td>\n",
              "      <td>1.3.6.1.4.1.32722.99.99.2989917765213423750108...</td>\n",
              "      <td>1.3.6.1.4.1.32722.99.99.6917641808288785879158...</td>\n",
              "      <td>gs://idc-open-cr/ed7c0188-93ed-480b-a8b0-31887...</td>\n",
              "    </tr>\n",
              "  </tbody>\n",
              "</table>\n",
              "</div>\n",
              "      <button class=\"colab-df-convert\" onclick=\"convertToInteractive('df-6eaafca1-49df-466b-925d-f32aa90e90e2')\"\n",
              "              title=\"Convert this dataframe to an interactive table.\"\n",
              "              style=\"display:none;\">\n",
              "        \n",
              "  <svg xmlns=\"http://www.w3.org/2000/svg\" height=\"24px\"viewBox=\"0 0 24 24\"\n",
              "       width=\"24px\">\n",
              "    <path d=\"M0 0h24v24H0V0z\" fill=\"none\"/>\n",
              "    <path d=\"M18.56 5.44l.94 2.06.94-2.06 2.06-.94-2.06-.94-.94-2.06-.94 2.06-2.06.94zm-11 1L8.5 8.5l.94-2.06 2.06-.94-2.06-.94L8.5 2.5l-.94 2.06-2.06.94zm10 10l.94 2.06.94-2.06 2.06-.94-2.06-.94-.94-2.06-.94 2.06-2.06.94z\"/><path d=\"M17.41 7.96l-1.37-1.37c-.4-.4-.92-.59-1.43-.59-.52 0-1.04.2-1.43.59L10.3 9.45l-7.72 7.72c-.78.78-.78 2.05 0 2.83L4 21.41c.39.39.9.59 1.41.59.51 0 1.02-.2 1.41-.59l7.78-7.78 2.81-2.81c.8-.78.8-2.07 0-2.86zM5.41 20L4 18.59l7.72-7.72 1.47 1.35L5.41 20z\"/>\n",
              "  </svg>\n",
              "      </button>\n",
              "      \n",
              "  <style>\n",
              "    .colab-df-container {\n",
              "      display:flex;\n",
              "      flex-wrap:wrap;\n",
              "      gap: 12px;\n",
              "    }\n",
              "\n",
              "    .colab-df-convert {\n",
              "      background-color: #E8F0FE;\n",
              "      border: none;\n",
              "      border-radius: 50%;\n",
              "      cursor: pointer;\n",
              "      display: none;\n",
              "      fill: #1967D2;\n",
              "      height: 32px;\n",
              "      padding: 0 0 0 0;\n",
              "      width: 32px;\n",
              "    }\n",
              "\n",
              "    .colab-df-convert:hover {\n",
              "      background-color: #E2EBFA;\n",
              "      box-shadow: 0px 1px 2px rgba(60, 64, 67, 0.3), 0px 1px 3px 1px rgba(60, 64, 67, 0.15);\n",
              "      fill: #174EA6;\n",
              "    }\n",
              "\n",
              "    [theme=dark] .colab-df-convert {\n",
              "      background-color: #3B4455;\n",
              "      fill: #D2E3FC;\n",
              "    }\n",
              "\n",
              "    [theme=dark] .colab-df-convert:hover {\n",
              "      background-color: #434B5C;\n",
              "      box-shadow: 0px 1px 3px 1px rgba(0, 0, 0, 0.15);\n",
              "      filter: drop-shadow(0px 1px 2px rgba(0, 0, 0, 0.3));\n",
              "      fill: #FFFFFF;\n",
              "    }\n",
              "  </style>\n",
              "\n",
              "      <script>\n",
              "        const buttonEl =\n",
              "          document.querySelector('#df-6eaafca1-49df-466b-925d-f32aa90e90e2 button.colab-df-convert');\n",
              "        buttonEl.style.display =\n",
              "          google.colab.kernel.accessAllowed ? 'block' : 'none';\n",
              "\n",
              "        async function convertToInteractive(key) {\n",
              "          const element = document.querySelector('#df-6eaafca1-49df-466b-925d-f32aa90e90e2');\n",
              "          const dataTable =\n",
              "            await google.colab.kernel.invokeFunction('convertToInteractive',\n",
              "                                                     [key], {});\n",
              "          if (!dataTable) return;\n",
              "\n",
              "          const docLinkHtml = 'Like what you see? Visit the ' +\n",
              "            '<a target=\"_blank\" href=https://colab.research.google.com/notebooks/data_table.ipynb>data table notebook</a>'\n",
              "            + ' to learn more about interactive tables.';\n",
              "          element.innerHTML = '';\n",
              "          dataTable['output_type'] = 'display_data';\n",
              "          await google.colab.output.renderOutput(dataTable, element);\n",
              "          const docLink = document.createElement('div');\n",
              "          docLink.innerHTML = docLinkHtml;\n",
              "          element.appendChild(docLink);\n",
              "        }\n",
              "      </script>\n",
              "    </div>\n",
              "  </div>\n",
              "  "
            ]
          },
          "metadata": {}
        }
      ]
    },
    {
      "cell_type": "code",
      "source": [
        "n_files = 1000\n",
        "\n",
        "download_df = cohort_df.sample(n=n_files)"
      ],
      "metadata": {
        "id": "q607PmIJLSgR"
      },
      "execution_count": 6,
      "outputs": []
    },
    {
      "cell_type": "code",
      "source": [
        "display(download_df.info())\n",
        "display(download_df.head())"
      ],
      "metadata": {
        "colab": {
          "base_uri": "https://localhost:8080/",
          "height": 918
        },
        "id": "L_b71geyLjGO",
        "outputId": "307280f0-f5fb-4919-a883-a77f2f125373"
      },
      "execution_count": 7,
      "outputs": [
        {
          "output_type": "stream",
          "name": "stdout",
          "text": [
            "<class 'pandas.core.frame.DataFrame'>\n",
            "Int64Index: 1000 entries, 47615 to 36411\n",
            "Data columns (total 5 columns):\n",
            " #   Column             Non-Null Count  Dtype \n",
            "---  ------             --------------  ----- \n",
            " 0   PatientID          1000 non-null   object\n",
            " 1   StudyInstanceUID   1000 non-null   object\n",
            " 2   SeriesInstanceUID  1000 non-null   object\n",
            " 3   SOPInstanceUID     1000 non-null   object\n",
            " 4   gcs_url            1000 non-null   object\n",
            "dtypes: object(5)\n",
            "memory usage: 46.9+ KB\n"
          ]
        },
        {
          "output_type": "display_data",
          "data": {
            "text/plain": [
              "None"
            ]
          },
          "metadata": {}
        },
        {
          "output_type": "display_data",
          "data": {
            "text/plain": [
              "       PatientID                                   StudyInstanceUID  \\\n",
              "47615  LUNG1-395  1.3.6.1.4.1.32722.99.99.3350705261738289248390...   \n",
              "33536  LUNG1-281  1.3.6.1.4.1.32722.99.99.1881715138496358906701...   \n",
              "9000   LUNG1-076  1.3.6.1.4.1.32722.99.99.1418724553999448343907...   \n",
              "18102  LUNG1-149  1.3.6.1.4.1.32722.99.99.2955458154422697612661...   \n",
              "34298  LUNG1-288  1.3.6.1.4.1.32722.99.99.5449838956248698783601...   \n",
              "\n",
              "                                       SeriesInstanceUID  \\\n",
              "47615  1.3.6.1.4.1.32722.99.99.5842216976622239870451...   \n",
              "33536  1.3.6.1.4.1.32722.99.99.2959382727875343823733...   \n",
              "9000   1.3.6.1.4.1.32722.99.99.3096956899420066990825...   \n",
              "18102  1.3.6.1.4.1.32722.99.99.2770484065985944619252...   \n",
              "34298  1.3.6.1.4.1.32722.99.99.1448272879306326549698...   \n",
              "\n",
              "                                          SOPInstanceUID  \\\n",
              "47615  1.3.6.1.4.1.32722.99.99.3193830854151359046976...   \n",
              "33536  1.3.6.1.4.1.32722.99.99.1485862150465849636046...   \n",
              "9000   1.3.6.1.4.1.32722.99.99.1888486984894511560460...   \n",
              "18102  1.3.6.1.4.1.32722.99.99.2318720683569837725782...   \n",
              "34298  1.3.6.1.4.1.32722.99.99.3109927289249849803579...   \n",
              "\n",
              "                                                 gcs_url  \n",
              "47615  gs://idc-open-cr/535e20ac-49f0-41fc-b56b-52a2e...  \n",
              "33536  gs://idc-open-cr/efa3646e-7855-4d9e-8609-65b03...  \n",
              "9000   gs://idc-open-cr/261f301a-930d-4607-8c1f-ef794...  \n",
              "18102  gs://idc-open-cr/c95549c9-6b60-4d4a-9a0d-ba35a...  \n",
              "34298  gs://idc-open-cr/0dde0ebe-c8be-4e76-9d07-1c09a...  "
            ],
            "text/html": [
              "\n",
              "  <div id=\"df-908be090-a684-48aa-a6c3-810d219c14fb\">\n",
              "    <div class=\"colab-df-container\">\n",
              "      <div>\n",
              "<style scoped>\n",
              "    .dataframe tbody tr th:only-of-type {\n",
              "        vertical-align: middle;\n",
              "    }\n",
              "\n",
              "    .dataframe tbody tr th {\n",
              "        vertical-align: top;\n",
              "    }\n",
              "\n",
              "    .dataframe thead th {\n",
              "        text-align: right;\n",
              "    }\n",
              "</style>\n",
              "<table border=\"1\" class=\"dataframe\">\n",
              "  <thead>\n",
              "    <tr style=\"text-align: right;\">\n",
              "      <th></th>\n",
              "      <th>PatientID</th>\n",
              "      <th>StudyInstanceUID</th>\n",
              "      <th>SeriesInstanceUID</th>\n",
              "      <th>SOPInstanceUID</th>\n",
              "      <th>gcs_url</th>\n",
              "    </tr>\n",
              "  </thead>\n",
              "  <tbody>\n",
              "    <tr>\n",
              "      <th>47615</th>\n",
              "      <td>LUNG1-395</td>\n",
              "      <td>1.3.6.1.4.1.32722.99.99.3350705261738289248390...</td>\n",
              "      <td>1.3.6.1.4.1.32722.99.99.5842216976622239870451...</td>\n",
              "      <td>1.3.6.1.4.1.32722.99.99.3193830854151359046976...</td>\n",
              "      <td>gs://idc-open-cr/535e20ac-49f0-41fc-b56b-52a2e...</td>\n",
              "    </tr>\n",
              "    <tr>\n",
              "      <th>33536</th>\n",
              "      <td>LUNG1-281</td>\n",
              "      <td>1.3.6.1.4.1.32722.99.99.1881715138496358906701...</td>\n",
              "      <td>1.3.6.1.4.1.32722.99.99.2959382727875343823733...</td>\n",
              "      <td>1.3.6.1.4.1.32722.99.99.1485862150465849636046...</td>\n",
              "      <td>gs://idc-open-cr/efa3646e-7855-4d9e-8609-65b03...</td>\n",
              "    </tr>\n",
              "    <tr>\n",
              "      <th>9000</th>\n",
              "      <td>LUNG1-076</td>\n",
              "      <td>1.3.6.1.4.1.32722.99.99.1418724553999448343907...</td>\n",
              "      <td>1.3.6.1.4.1.32722.99.99.3096956899420066990825...</td>\n",
              "      <td>1.3.6.1.4.1.32722.99.99.1888486984894511560460...</td>\n",
              "      <td>gs://idc-open-cr/261f301a-930d-4607-8c1f-ef794...</td>\n",
              "    </tr>\n",
              "    <tr>\n",
              "      <th>18102</th>\n",
              "      <td>LUNG1-149</td>\n",
              "      <td>1.3.6.1.4.1.32722.99.99.2955458154422697612661...</td>\n",
              "      <td>1.3.6.1.4.1.32722.99.99.2770484065985944619252...</td>\n",
              "      <td>1.3.6.1.4.1.32722.99.99.2318720683569837725782...</td>\n",
              "      <td>gs://idc-open-cr/c95549c9-6b60-4d4a-9a0d-ba35a...</td>\n",
              "    </tr>\n",
              "    <tr>\n",
              "      <th>34298</th>\n",
              "      <td>LUNG1-288</td>\n",
              "      <td>1.3.6.1.4.1.32722.99.99.5449838956248698783601...</td>\n",
              "      <td>1.3.6.1.4.1.32722.99.99.1448272879306326549698...</td>\n",
              "      <td>1.3.6.1.4.1.32722.99.99.3109927289249849803579...</td>\n",
              "      <td>gs://idc-open-cr/0dde0ebe-c8be-4e76-9d07-1c09a...</td>\n",
              "    </tr>\n",
              "  </tbody>\n",
              "</table>\n",
              "</div>\n",
              "      <button class=\"colab-df-convert\" onclick=\"convertToInteractive('df-908be090-a684-48aa-a6c3-810d219c14fb')\"\n",
              "              title=\"Convert this dataframe to an interactive table.\"\n",
              "              style=\"display:none;\">\n",
              "        \n",
              "  <svg xmlns=\"http://www.w3.org/2000/svg\" height=\"24px\"viewBox=\"0 0 24 24\"\n",
              "       width=\"24px\">\n",
              "    <path d=\"M0 0h24v24H0V0z\" fill=\"none\"/>\n",
              "    <path d=\"M18.56 5.44l.94 2.06.94-2.06 2.06-.94-2.06-.94-.94-2.06-.94 2.06-2.06.94zm-11 1L8.5 8.5l.94-2.06 2.06-.94-2.06-.94L8.5 2.5l-.94 2.06-2.06.94zm10 10l.94 2.06.94-2.06 2.06-.94-2.06-.94-.94-2.06-.94 2.06-2.06.94z\"/><path d=\"M17.41 7.96l-1.37-1.37c-.4-.4-.92-.59-1.43-.59-.52 0-1.04.2-1.43.59L10.3 9.45l-7.72 7.72c-.78.78-.78 2.05 0 2.83L4 21.41c.39.39.9.59 1.41.59.51 0 1.02-.2 1.41-.59l7.78-7.78 2.81-2.81c.8-.78.8-2.07 0-2.86zM5.41 20L4 18.59l7.72-7.72 1.47 1.35L5.41 20z\"/>\n",
              "  </svg>\n",
              "      </button>\n",
              "      \n",
              "  <style>\n",
              "    .colab-df-container {\n",
              "      display:flex;\n",
              "      flex-wrap:wrap;\n",
              "      gap: 12px;\n",
              "    }\n",
              "\n",
              "    .colab-df-convert {\n",
              "      background-color: #E8F0FE;\n",
              "      border: none;\n",
              "      border-radius: 50%;\n",
              "      cursor: pointer;\n",
              "      display: none;\n",
              "      fill: #1967D2;\n",
              "      height: 32px;\n",
              "      padding: 0 0 0 0;\n",
              "      width: 32px;\n",
              "    }\n",
              "\n",
              "    .colab-df-convert:hover {\n",
              "      background-color: #E2EBFA;\n",
              "      box-shadow: 0px 1px 2px rgba(60, 64, 67, 0.3), 0px 1px 3px 1px rgba(60, 64, 67, 0.15);\n",
              "      fill: #174EA6;\n",
              "    }\n",
              "\n",
              "    [theme=dark] .colab-df-convert {\n",
              "      background-color: #3B4455;\n",
              "      fill: #D2E3FC;\n",
              "    }\n",
              "\n",
              "    [theme=dark] .colab-df-convert:hover {\n",
              "      background-color: #434B5C;\n",
              "      box-shadow: 0px 1px 3px 1px rgba(0, 0, 0, 0.15);\n",
              "      filter: drop-shadow(0px 1px 2px rgba(0, 0, 0, 0.3));\n",
              "      fill: #FFFFFF;\n",
              "    }\n",
              "  </style>\n",
              "\n",
              "      <script>\n",
              "        const buttonEl =\n",
              "          document.querySelector('#df-908be090-a684-48aa-a6c3-810d219c14fb button.colab-df-convert');\n",
              "        buttonEl.style.display =\n",
              "          google.colab.kernel.accessAllowed ? 'block' : 'none';\n",
              "\n",
              "        async function convertToInteractive(key) {\n",
              "          const element = document.querySelector('#df-908be090-a684-48aa-a6c3-810d219c14fb');\n",
              "          const dataTable =\n",
              "            await google.colab.kernel.invokeFunction('convertToInteractive',\n",
              "                                                     [key], {});\n",
              "          if (!dataTable) return;\n",
              "\n",
              "          const docLinkHtml = 'Like what you see? Visit the ' +\n",
              "            '<a target=\"_blank\" href=https://colab.research.google.com/notebooks/data_table.ipynb>data table notebook</a>'\n",
              "            + ' to learn more about interactive tables.';\n",
              "          element.innerHTML = '';\n",
              "          dataTable['output_type'] = 'display_data';\n",
              "          await google.colab.output.renderOutput(dataTable, element);\n",
              "          const docLink = document.createElement('div');\n",
              "          docLink.innerHTML = docLinkHtml;\n",
              "          element.appendChild(docLink);\n",
              "        }\n",
              "      </script>\n",
              "    </div>\n",
              "  </div>\n",
              "  "
            ]
          },
          "metadata": {}
        }
      ]
    },
    {
      "cell_type": "markdown",
      "source": [
        "# Generating Manifestos"
      ],
      "metadata": {
        "id": "EZEqydnJLFE2"
      }
    },
    {
      "cell_type": "code",
      "source": [
        "!mkdir -p data\n",
        "!mkdir -p data/dicom_s5cmd data/dicom_gsutil data/dicom_gstorage"
      ],
      "metadata": {
        "id": "ZQHZvORVLIut"
      },
      "execution_count": 8,
      "outputs": []
    },
    {
      "cell_type": "code",
      "source": [
        "gs_file_path = \"data/gcs_paths.txt\"\n",
        "\n",
        "download_df[\"gcs_url\"].to_csv(gs_file_path, header = False, index = False)"
      ],
      "metadata": {
        "id": "PbpQu9e0LIxT"
      },
      "execution_count": 9,
      "outputs": []
    },
    {
      "cell_type": "code",
      "source": [
        "download_path = \"data/dicom_s5cmd/\"\n",
        "\n",
        "s5cmd_gs_file_path = \"data/gcs_url_s5cmd.txt\"\n",
        "\n",
        "gcsurl_temp = \"cp \" + download_df[\"gcs_url\"].str.replace(\"gs://\",\"s3://\") + \" \" + download_path\n",
        "gcsurl_temp.to_csv(s5cmd_gs_file_path, header=False, index=False)"
      ],
      "metadata": {
        "id": "7-FqM6YQMH5_"
      },
      "execution_count": 10,
      "outputs": []
    },
    {
      "cell_type": "markdown",
      "source": [
        "# Benchmarking"
      ],
      "metadata": {
        "id": "nhyDJvLRK7u1"
      }
    },
    {
      "cell_type": "code",
      "source": [
        "elapsed = dict()"
      ],
      "metadata": {
        "id": "fPiNfnx_PawI"
      },
      "execution_count": 11,
      "outputs": []
    },
    {
      "cell_type": "markdown",
      "source": [
        "## gsutil"
      ],
      "metadata": {
        "id": "XYi0HaB1Pold"
      }
    },
    {
      "cell_type": "code",
      "source": [
        "%%capture\n",
        "\n",
        "start = time.time()\n",
        "\n",
        "!cat data/gcs_paths.txt | gsutil -m cp -Ir data/dicom_gsutil\n",
        "\n",
        "end = time.time()\n",
        "elapsed[\"gsutil\"] = end - start"
      ],
      "metadata": {
        "id": "dt8hpUWFPorV"
      },
      "execution_count": 12,
      "outputs": []
    },
    {
      "cell_type": "markdown",
      "source": [
        "## gcloud storage cp"
      ],
      "metadata": {
        "id": "_vFrXupkPefb"
      }
    },
    {
      "cell_type": "code",
      "source": [
        "%%capture\n",
        "\n",
        "start = time.time()\n",
        "\n",
        "!cat data/gcs_paths.txt | gcloud storage cp --read-paths-from-stdin data/dicom_gstorage\n",
        "\n",
        "end = time.time()\n",
        "elapsed[\"gstorage\"] = end - start"
      ],
      "metadata": {
        "id": "eYeHdxHFNlMh"
      },
      "execution_count": 13,
      "outputs": []
    },
    {
      "cell_type": "markdown",
      "source": [
        "## s5cmd"
      ],
      "metadata": {
        "id": "H7Go8iDzPmmx"
      }
    },
    {
      "cell_type": "code",
      "source": [
        "%%capture\n",
        "\n",
        "start = time.time()\n",
        "\n",
        "!s5cmd --no-sign-request --endpoint-url https://storage.googleapis.com run data/gcs_url_s5cmd.txt\n",
        "\n",
        "end = time.time()\n",
        "elapsed[\"s5cmd\"] = end - start"
      ],
      "metadata": {
        "id": "2NFvJ1DRKmf8"
      },
      "execution_count": 14,
      "outputs": []
    },
    {
      "cell_type": "markdown",
      "source": [
        "# Results"
      ],
      "metadata": {
        "id": "x3DkjKTjQp4t"
      }
    },
    {
      "cell_type": "code",
      "source": [
        "elapsed"
      ],
      "metadata": {
        "colab": {
          "base_uri": "https://localhost:8080/"
        },
        "id": "M_QxxmrbNCBx",
        "outputId": "7362889e-1771-4eef-cd06-707bc015c7e8"
      },
      "execution_count": 15,
      "outputs": [
        {
          "output_type": "execute_result",
          "data": {
            "text/plain": [
              "{'gsutil': 167.22876358032227,\n",
              " 'gstorage': 295.94231247901917,\n",
              " 's5cmd': 0.12480902671813965}"
            ]
          },
          "metadata": {},
          "execution_count": 15
        }
      ]
    }
  ]
}